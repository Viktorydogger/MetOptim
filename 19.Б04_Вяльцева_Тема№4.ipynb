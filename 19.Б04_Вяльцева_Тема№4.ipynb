{
 "cells": [
  {
   "cell_type": "code",
   "execution_count": 67,
   "metadata": {},
   "outputs": [],
   "source": [
    "import sympy as sp\n",
    "import numpy as np\n",
    "import math as m\n",
    "import matplotlib.pyplot as plt\n",
    "a = 0.2\n",
    "b = 3.1\n",
    "al = 3/5\n",
    "bet = 0"
   ]
  },
  {
   "cell_type": "code",
   "execution_count": 68,
   "metadata": {},
   "outputs": [],
   "source": [
    "def F(x):\n",
    "    return [2.5*m.cos(i*5.7)*m.exp(-4*i/3)+2.4*m.sin(2.5*i)*m.exp(-i) + 7 for i in x]\n",
    "def Fnum(i):\n",
    "    return 2.5*m.cos(i*5.7)*m.exp(-4*i/3)+2.4*m.sin(2.5*i)*m.exp(-i) + 7"
   ]
  },
  {
   "cell_type": "code",
   "execution_count": 69,
   "metadata": {},
   "outputs": [],
   "source": [
    "Abs1 = 20.740810808510327267\n",
    "Abs2 = 28.985795345020184134"
   ]
  },
  {
   "cell_type": "code",
   "execution_count": 70,
   "metadata": {},
   "outputs": [],
   "source": [
    "# проверяем, есть ли на главной диагонали нули\n",
    "def no0(M, k):\n",
    "    n =  M.shape[0]\n",
    "    while k < n and not M[k, k]:\n",
    "        k += 1\n",
    "    return k"
   ]
  },
  {
   "cell_type": "code",
   "execution_count": 71,
   "metadata": {},
   "outputs": [],
   "source": [
    "#простой метод Гаусса\n",
    "def Gauss(Ag,b):\n",
    "        M = np.hstack((Ag, b)) # \"склейка\" матрицы коэффициентов при переменных и вектора свободных членов\n",
    "        n = M.shape[0] \n",
    "        for k in range(n): \n",
    "            # убираем нули с главной диагонали, если они есть\n",
    "            k0 = no0(M, k)\n",
    "            if k0 != k:\n",
    "                M[k0], M[k] = M[k].copy(), M[k0]   \n",
    "            if M[k, k] != 1:\n",
    "                M[k, :] *= 1 / M[k, k]\n",
    "            # приямой ход метода Гаусса\n",
    "            for r in range(k + 1, n):\n",
    "                M[r, :] -= M[k, :] * M[r, k]\n",
    "        #обратный ход метода Гаусса\n",
    "        for k in range(n - 1, 0, -1):\n",
    "            for r in range(k - 1, -1, -1):\n",
    "                if M[r, k]:\n",
    "                    M[r, :] -= M[k, :] * M[r, k]\n",
    "        \n",
    "        return  (M[:,n])\n"
   ]
  },
  {
   "cell_type": "code",
   "execution_count": 72,
   "metadata": {},
   "outputs": [],
   "source": [
    "def Left():\n",
    "    R = np.array([0])\n",
    "    for i in range(50):\n",
    "        xi = np.linspace(a,b,i+2)\n",
    "        f = F(xi)\n",
    "        ans = 0\n",
    "        for j in range(len(xi)-1):\n",
    "            ans +=(xi[j+1]-xi[j])*f[j]\n",
    "        R = np.append(R,[abs(Abs1 - ans)])\n",
    "        print(ans)\n",
    "    R=np.delete(R,0,axis=0)\n",
    "    rx = np.array([[i] for i in range(50)])\n",
    "    plt.plot(rx,R.T)\n",
    "    plt.grid()"
   ]
  },
  {
   "cell_type": "code",
   "execution_count": 73,
   "metadata": {},
   "outputs": [
    {
     "name": "stdout",
     "output_type": "stream",
     "text": [
      "25.350836326394006\n",
      "21.86752065261525\n",
      "22.526531928392302\n",
      "21.86127910417227\n",
      "21.50002002982963\n",
      "21.315567505974727\n",
      "21.203832291054347\n",
      "21.128645594585674\n",
      "21.07449111489406\n",
      "21.033588558435156\n",
      "21.001590984806974\n",
      "20.97587210966754\n",
      "20.954748685156506\n",
      "20.937090859770773\n",
      "20.922111500179007\n",
      "20.909245175848024\n",
      "20.898075139576893\n",
      "20.888287429916033\n",
      "20.87964100809097\n",
      "20.87194774450949\n",
      "20.865058657886408\n",
      "20.85885423865217\n",
      "20.8532375080171\n",
      "20.848128950514333\n",
      "20.84346275523104\n",
      "20.839183987603388\n",
      "20.835246433617236\n",
      "20.831610937012943\n",
      "20.82824410279991\n",
      "20.82511727628363\n",
      "20.822205731650946\n",
      "20.81948802160644\n",
      "20.816945451973293\n",
      "20.81456165412527\n",
      "20.812322234645755\n",
      "20.810214486423078\n",
      "20.808227148975977\n",
      "20.806350208496976\n",
      "20.804574730145287\n",
      "20.802892716682866\n",
      "20.801296988752068\n",
      "20.799781083027412\n",
      "20.798339165205952\n",
      "20.796965955374795\n",
      "20.79565666375067\n",
      "20.7944069351488\n",
      "20.793212800828876\n",
      "20.792070636600506\n",
      "20.790977126259165\n",
      "20.789929229578462\n"
     ]
    },
    {
     "data": {
      "image/png": "[encoded data removed]",
      "text/plain": [
       "<Figure size 432x288 with 1 Axes>"
      ]
     },
     "metadata": {
      "needs_background": "light"
     },
     "output_type": "display_data"
    }
   ],
   "source": [
    "Left()"
   ]
  },
  {
   "cell_type": "code",
   "execution_count": 74,
   "metadata": {},
   "outputs": [],
   "source": [
    "def mid():\n",
    "    R = np.array([0])\n",
    "    for i in range(50):\n",
    "        xi = np.linspace(a,b,i+2)\n",
    "        ans = 0\n",
    "        for j in range(len(xi)-1):\n",
    "            ans +=(xi[j+1]-xi[j])*Fnum((xi[j]+xi[j+1])/2)\n",
    "        R = np.append(R,[abs(Abs1 - ans)])\n",
    "        print(ans)\n",
    "    R=np.delete(R,0,axis=0)\n",
    "    rx = np.array([[i] for i in range(50)])\n",
    "    \n",
    "    plt.plot(rx,R.T)\n",
    "    plt.grid()"
   ]
  },
  {
   "cell_type": "code",
   "execution_count": 75,
   "metadata": {},
   "outputs": [
    {
     "name": "stdout",
     "output_type": "stream",
     "text": [
      "18.384204978836493\n",
      "21.85503755572929\n",
      "20.104603083557155\n",
      "20.396012084999082\n",
      "20.567157087040684\n",
      "20.636176713360364\n",
      "20.67034942848719\n",
      "20.689844757110368\n",
      "20.702083744938\n",
      "20.710306930583826\n",
      "20.716117492497357\n",
      "20.720385791361124\n",
      "20.723619290050266\n",
      "20.726131014255124\n",
      "20.728123052388245\n",
      "20.72973086736485\n",
      "20.73104816867365\n",
      "20.73214154293013\n",
      "20.733059408902992\n",
      "20.733837688856255\n",
      "20.734503508168412\n",
      "20.735077672097418\n",
      "20.735576362280487\n",
      "20.736012322686687\n",
      "20.736395703925872\n",
      "20.736734674290155\n",
      "20.73703586860443\n",
      "20.73730472243164\n",
      "20.737545724014065\n",
      "20.7377626063691\n",
      "20.737958495294954\n",
      "20.738136024513754\n",
      "20.738297426054807\n",
      "20.738444601795898\n",
      "20.738579180532014\n",
      "20.738702563830746\n",
      "20.73881596312894\n",
      "20.738920429935654\n",
      "20.739016880570528\n",
      "20.73910611654111\n",
      "20.739188841417697\n",
      "20.739265674878627\n",
      "20.73933716445617\n",
      "20.739403795404435\n",
      "20.739465999025033\n",
      "20.739524159720556\n",
      "20.739578620993488\n",
      "20.7396296905674\n",
      "20.739677644774122\n",
      "20.739722732325106\n"
     ]
    },
    {
     "data": {
      "image/png": "[encoded data removed]",
      "text/plain": [
       "<Figure size 432x288 with 1 Axes>"
      ]
     },
     "metadata": {
      "needs_background": "light"
     },
     "output_type": "display_data"
    }
   ],
   "source": [
    "mid()"
   ]
  },
  {
   "cell_type": "code",
   "execution_count": 76,
   "metadata": {},
   "outputs": [],
   "source": [
    "def Tr():    \n",
    "    R = np.array([0])\n",
    "    for i in range(50):\n",
    "        xi = np.linspace(a,b,i+2)\n",
    "        \n",
    "        f = F(xi)\n",
    "        ans = 0\n",
    "        for j in range(len(xi)-1):\n",
    "            ans +=(xi[j+1]-xi[j])*(f[j] + f[j+1])/2\n",
    "        R = np.append(R,[abs(Abs1 - ans)])\n",
    "        print(ans)\n",
    "    R=np.delete(R,0,axis=0)\n",
    "    rx = np.array([[i] for i in range(50)])\n",
    "    \n",
    "    plt.plot(rx,R.T)\n",
    "    plt.grid()"
   ]
  },
  {
   "cell_type": "code",
   "execution_count": 77,
   "metadata": {},
   "outputs": [
    {
     "name": "stdout",
     "output_type": "stream",
     "text": [
      "23.003500667229822\n",
      "20.69385282303316\n",
      "21.744086708670906\n",
      "21.274445189381225\n",
      "21.030552897996795\n",
      "20.92434489611403\n",
      "20.86849862545947\n",
      "20.835228637190152\n",
      "20.813676041653597\n",
      "20.79885499251874\n",
      "20.788196833973867\n",
      "20.780260804737196\n",
      "20.774184403682337\n",
      "20.769424026973326\n",
      "20.765622456234723\n",
      "20.762536697150264\n",
      "20.75999657139076\n",
      "20.757879893295797\n",
      "20.756097026029707\n",
      "20.75458096155128\n",
      "20.753280769354777\n",
      "20.752157163235612\n",
      "20.75117943587952\n",
      "20.750323298049157\n",
      "20.74956932886447\n",
      "20.7489018468663\n",
      "20.748308075870423\n",
      "20.74777752061423\n",
      "20.747301493863212\n",
      "20.746872754311486\n",
      "20.74648522651662\n",
      "20.746133782257555\n",
      "20.745814068362257\n",
      "20.745522370032205\n",
      "20.745255501526774\n",
      "20.74501071811296\n",
      "20.744785644674245\n",
      "20.74457821746635\n",
      "20.744386636320566\n",
      "20.74420932520377\n",
      "20.744044899504154\n",
      "20.7438921387616\n",
      "20.743749963830044\n",
      "20.743617417666517\n",
      "20.74349364910258\n",
      "20.743377899080002\n",
      "20.743269488931773\n",
      "20.74316781036792\n",
      "20.74307231688846\n",
      "20.74298251639517\n"
     ]
    },
    {
     "data": {
      "image/png": "[encoded data removed]",
      "text/plain": [
       "<Figure size 432x288 with 1 Axes>"
      ]
     },
     "metadata": {
      "needs_background": "light"
     },
     "output_type": "display_data"
    }
   ],
   "source": [
    "Tr()"
   ]
  },
  {
   "cell_type": "code",
   "execution_count": 78,
   "metadata": {},
   "outputs": [],
   "source": [
    "def Sim():   \n",
    "    R = np.array([0])\n",
    "    for i in range(50):\n",
    "        xi = np.linspace(a,b,i+2)\n",
    "        ans = 0\n",
    "        for j in range(len(xi)-1):\n",
    "            ans +=(xi[j+1]-xi[j])*(4*Fnum((xi[j]+xi[j+1])/2)+Fnum(xi[j])+Fnum(xi[j+1]))/6\n",
    "        R = np.append(R,[abs(Abs1 - ans)])\n",
    "        print(ans)\n",
    "    R=np.delete(R,0,axis=0)\n",
    "    rx = np.array([[i] for i in range(50)])\n",
    "    plt.plot(rx,R.T)\n",
    "    plt.grid()"
   ]
  },
  {
   "cell_type": "code",
   "execution_count": 79,
   "metadata": {},
   "outputs": [
    {
     "name": "stdout",
     "output_type": "stream",
     "text": [
      "19.923970208300936\n",
      "21.467975978163913\n",
      "20.651097625261738\n",
      "20.688823119793128\n",
      "20.721622357359387\n",
      "20.73223277427825\n",
      "20.736399160811285\n",
      "20.738306050470296\n",
      "20.739281177176533\n",
      "20.7398229512288\n",
      "20.740143939656193\n",
      "20.740344129153147\n",
      "20.740474327927622\n",
      "20.740562018494522\n",
      "20.74062285367041\n",
      "20.74066614395999\n",
      "20.740697636246026\n",
      "20.74072099305202\n",
      "20.740738614611896\n",
      "20.740752113087925\n",
      "20.740762595230535\n",
      "20.74077083581015\n",
      "20.7407773868135\n",
      "20.740782647807507\n",
      "20.740786912238743\n",
      "20.740790398482208\n",
      "20.740793271026426\n",
      "20.74079565515916\n",
      "20.740797647297114\n",
      "20.740799322349897\n",
      "20.74080073903551\n",
      "20.740801943761692\n",
      "20.74080297349062\n",
      "20.740803857874663\n",
      "20.7408046208636\n",
      "20.740805281924818\n",
      "20.740805856977374\n",
      "20.74080635911255\n",
      "20.740806799153876\n",
      "20.740807186095324\n",
      "20.740807527446517\n",
      "20.74080782950628\n",
      "20.740808097580786\n",
      "20.740808336158462\n",
      "20.74080854905089\n",
      "20.74080873950704\n",
      "20.740808910306253\n",
      "20.740809063834238\n",
      "20.740809202145567\n",
      "20.740809327015118\n"
     ]
    },
    {
     "data": {
      "image/png": "[encoded data removed]",
      "text/plain": [
       "<Figure size 432x288 with 1 Axes>"
      ]
     },
     "metadata": {
      "needs_background": "light"
     },
     "output_type": "display_data"
    }
   ],
   "source": [
    "Sim()"
   ]
  },
  {
   "cell_type": "code",
   "execution_count": 80,
   "metadata": {},
   "outputs": [],
   "source": [
    "def NK():    \n",
    "    R = np.array([0])\n",
    "    for i in range(50):\n",
    "        ans = 0\n",
    "        xi = np.linspace(a,b,i+2)\n",
    "        for j in range(1,len(xi)):\n",
    "            x2 = xi[j]\n",
    "            x0 = xi[j-1]\n",
    "            x1 = (x0+x2)/2\n",
    "            mo0 = ((x2-a)**(-al+1)-(x0-a)**(-al+1))/(-al+1)\n",
    "            mo1 = ((x2-a)**(-al+2)-(x0-a)**(-al+2))/(-al+2)+a*mo0\n",
    "            mo2 = ((x2-a)**(-al+3)-(x0-a)**(-al+3))/(-al+3)+2*a*mo1-a**2*mo0\n",
    "            X = np.array([[1,1,1],[x0,x1,x2],[x0**2,x1**2,x2**2]])\n",
    "            Ai = np.array([[mo0,mo1,mo2]])\n",
    "            A = Gauss(X,Ai.T)\n",
    "            ans += A[0]*Fnum(x0)+A[1]*Fnum(x1)+A[2]*Fnum(x2)\n",
    "        print(ans)\n",
    "        R = np.append(R,[abs(Abs2 - ans)])\n",
    "    R=np.delete(R,0,axis=0)\n",
    "    rx = np.array([[i] for i in range(50)])\n",
    "    \n",
    "    plt.plot(rx,R.T)\n",
    "    plt.grid()\n",
    "    return "
   ]
  },
  {
   "cell_type": "code",
   "execution_count": 81,
   "metadata": {},
   "outputs": [
    {
     "name": "stdout",
     "output_type": "stream",
     "text": [
      "28.784164683388404\n",
      "30.490384988267884\n",
      "29.21062911694928\n",
      "28.949444203433277\n",
      "28.931881936793296\n",
      "28.940961223263287\n",
      "28.95167148142984\n",
      "28.960197433481163\n",
      "28.966471247931867\n",
      "28.97101763725586\n",
      "28.974327634820558\n",
      "28.976765972042042\n",
      "28.97858764984977\n",
      "28.9799684086543\n",
      "28.981029686347405\n",
      "28.981856210333415\n",
      "28.982507837679268\n",
      "28.983027427394255\n",
      "28.983446083942216\n",
      "28.983786678276264\n",
      "28.98406623841969\n",
      "28.984297592512643\n",
      "28.98449051237464\n",
      "28.984652519407614\n",
      "28.984789459454777\n",
      "28.98490591764385\n",
      "28.98500552108887\n",
      "28.985091162099124\n",
      "28.98516516441742\n",
      "28.985229408200937\n",
      "28.985285424824323\n",
      "28.985334469400613\n",
      "28.98537757670036\n",
      "28.985415604597137\n",
      "28.985449268062613\n",
      "28.98547916594915\n",
      "28.985505802225315\n",
      "28.985529602916888\n",
      "28.98555092970026\n",
      "28.985570090870734\n",
      "28.985587350238564\n",
      "28.985602934381422\n",
      "28.985617038584877\n",
      "28.985629831730616\n",
      "28.98564146033674\n",
      "28.985652051910655\n",
      "28.985661717743547\n",
      "28.98567055524719\n",
      "28.985678649917222\n",
      "28.985686076985907\n"
     ]
    },
    {
     "data": {
      "image/png": "[encoded data removed]",
      "text/plain": [
       "<Figure size 432x288 with 1 Axes>"
      ]
     },
     "metadata": {
      "needs_background": "light"
     },
     "output_type": "display_data"
    }
   ],
   "source": [
    "NK()"
   ]
  },
  {
   "cell_type": "code",
   "execution_count": 82,
   "metadata": {},
   "outputs": [],
   "source": [
    "def Card(b,c,d):\n",
    "    y1 = b/3\n",
    "    q = (2*b**3/27 - b*c/3+d)/2\n",
    "    p = (3*c-b**2)/9\n",
    "    r = m.sqrt(abs(p))*np.sign(q)\n",
    "    if p<0 and q**2+p**3<0:\n",
    "        fi = m.acos(q/r**3)\n",
    "        return [-2*r*m.cos(fi/3)-y1,2*r*m.cos(m.pi/3 - fi/3)-y1,2*r*m.cos(m.pi/3 + fi/3)-y1]\n"
   ]
  },
  {
   "cell_type": "code",
   "execution_count": 83,
   "metadata": {},
   "outputs": [],
   "source": [
    "def G():   \n",
    "    R = np.array([0])\n",
    "    for i in range(50):\n",
    "        ans = 0\n",
    "        xi = np.linspace(a,b,i+2)\n",
    "        for j in range(1,len(xi)):\n",
    "            x2 = xi[j]\n",
    "            x1 = xi[j-1]\n",
    "            mo0 = ((x2-a)**(-al+1)-(x1-a)**(-al+1))/(-al+1)\n",
    "            mo1 = ((x2-a)**(-al+2)-(x1-a)**(-al+2))/(-al+2)+a*mo0\n",
    "            mo2 = ((x2-a)**(-al+3)-(x1-a)**(-al+3))/(-al+3)+2*a*mo1-a**2*mo0\n",
    "            mo3 = ((x2-a)**(-al+4)-(x1-a)**(-al+4))/(-al+4)+3*a*mo2-3*a**2*mo1+a**3*mo0\n",
    "            mo4 = ((x2-a)**(-al+5)-(x1-a)**(-al+5))/(-al+5)+4*a*mo3-6*a**2*mo2+a**3*4*mo1-a**4*mo0\n",
    "            mo5 = ((x2-a)**(-al+6)-(x1-a)**(-al+6))/(-al+6)+5*a*mo4-10*a**2*mo3+10*a**3*mo2-a**4*5*mo1+a**5*mo0\n",
    "            X = np.array([[mo0,mo1,mo2],[mo1,mo2,mo3],[mo2,mo3,mo4]])\n",
    "            Ai = np.array([[-mo3,-mo4,-mo5]])\n",
    "            ai = Gauss(X,Ai.T)\n",
    "            #x = np.roots([1,ai[2],ai[1],ai[0]])\n",
    "            x = Card(ai[2],ai[1],ai[0])\n",
    "            x = np.sort(x)\n",
    "            Xd = np.array([[1,1,1],[x[0],x[1],x[2]],[x[0]**2,x[1]**2,x[2]**2]])\n",
    "            M = np.array([[mo0,mo1,mo2]])\n",
    "            A = Gauss(Xd,M.T)\n",
    "            ans+=A[0]*Fnum(x[0])+A[1]*Fnum(x[1])+A[2]*Fnum(x[2])\n",
    "        print(ans)\n",
    "        R = np.append(R,[abs(Abs2 - ans)])\n",
    "    R=np.delete(R,0,axis=0)\n",
    "    rx = np.array([[i] for i in range(50)])\n",
    "    plt.plot(rx,R.T)\n",
    "    plt.grid()\n",
    "    return ans"
   ]
  },
  {
   "cell_type": "code",
   "execution_count": 84,
   "metadata": {},
   "outputs": [
    {
     "name": "stdout",
     "output_type": "stream",
     "text": [
      "27.932487530664563\n",
      "29.207604210460897\n",
      "28.989733795893134\n",
      "28.982851194005246\n",
      "28.98465171636738\n",
      "28.985351688683078\n",
      "28.985606223447874\n",
      "28.985706996432256\n",
      "28.985750712221332\n",
      "28.985771269433773\n",
      "28.985781624134617\n",
      "28.9857871531396\n",
      "28.985790256096024\n",
      "28.98579207365027\n",
      "28.985793178552466\n",
      "28.985793872358542\n",
      "28.98579432065338\n",
      "28.985794617704197\n",
      "28.985794819110886\n",
      "28.98579495841137\n",
      "28.98579505654962\n",
      "28.98579512680976\n",
      "28.985795177914767\n",
      "28.985795215626915\n",
      "28.9857952437377\n",
      "28.9857952650115\n",
      "28.98579528124208\n",
      "28.98579529374107\n",
      "28.98579530347995\n",
      "28.985795311153616\n",
      "28.985795317187513\n",
      "28.98579532205269\n",
      "28.985795325881245\n",
      "28.98579532904709\n",
      "28.985795331632936\n",
      "28.985795333730035\n",
      "28.985795335396027\n",
      "28.985795336850703\n",
      "28.985795338034688\n",
      "28.985795339041424\n",
      "28.985795339826165\n",
      "28.985795340540932\n",
      "28.98579534113739\n",
      "28.98579534158588\n",
      "28.985795341943238\n",
      "28.985795342362966\n",
      "28.985795342750908\n",
      "28.985795343033704\n",
      "28.98579534327995\n",
      "28.98579534343938\n"
     ]
    },
    {
     "data": {
      "text/plain": [
       "28.98579534343938"
      ]
     },
     "execution_count": 84,
     "metadata": {},
     "output_type": "execute_result"
    },
    {
     "data": {
      "image/png": "[encoded data removed]",
      "text/plain": [
       "<Figure size 432x288 with 1 Axes>"
      ]
     },
     "metadata": {
      "needs_background": "light"
     },
     "output_type": "display_data"
    }
   ],
   "source": [
    "G()"
   ]
  },
  {
   "cell_type": "code",
   "execution_count": 85,
   "metadata": {},
   "outputs": [],
   "source": [
    "def NK_1(i):    \n",
    "    ans = 0\n",
    "    xi = np.linspace(a,b,i+1)\n",
    "    for j in range(1,len(xi)):\n",
    "        x2 = xi[j]\n",
    "        x0 = xi[j-1]\n",
    "        x1 = (x0+x2)/2\n",
    "        mo0 = ((x2-a)**(-al+1)-(x0-a)**(-al+1))/(-al+1)\n",
    "        mo1 = ((x2-a)**(-al+2)-(x0-a)**(-al+2))/(-al+2)+a*mo0\n",
    "        mo2 = ((x2-a)**(-al+3)-(x0-a)**(-al+3))/(-al+3)+2*a*mo1-a**2*mo0\n",
    "        X = np.array([[1,1,1],[x0,x1,x2],[x0**2,x1**2,x2**2]])\n",
    "        Ai = np.array([[mo0,mo1,mo2]])\n",
    "        A = Gauss(X,Ai.T)\n",
    "        ans += A[0]*Fnum(x0)+A[1]*Fnum(x1)+A[2]*Fnum(x2)\n",
    "    return ans"
   ]
  },
  {
   "cell_type": "code",
   "execution_count": 90,
   "metadata": {},
   "outputs": [
    {
     "name": "stdout",
     "output_type": "stream",
     "text": [
      "40.562151178033304 0.14699251440066904 0.725\n",
      "-0.0001989499362835545 7.162897532245035 0.3625\n",
      "1125.09055932798 -1.0101816904913539 0.18125\n",
      "-0.0005182576814704021 2.6385144747881863 0.090625\n",
      "-5.2058004975208405e-05 3.0772009206353355 0.0453125\n",
      "-5.0951772259111294e-06 3.2332414586039326 0.02265625\n",
      "-4.938089759320974e-07 3.3041060360267185 0.011328125\n",
      "3.9235134566304275e-52\n"
     ]
    }
   ],
   "source": [
    "d = b-a\n",
    "eps = 10**(-6)\n",
    "for r in range(2,16):\n",
    "    Sh = np.zeros((r+1,1))\n",
    "    H = np.zeros((r+1,r+1))\n",
    "    for j in range(r+1):\n",
    "        Sh[j,0] = -NK_1(2**j)\n",
    "    mm = -m.log(abs((-Sh[-1,0]+Sh[-2,0])/(-Sh[-2,0]+Sh[-3,0])))/m.log(2)\n",
    "    \n",
    "    H[:,0] = np.ones((r+1,1))[:,0]\n",
    "    for j in range(r+1):\n",
    "        H[j,1:] = np.array([(d/2**j)**(mm+i) for i in range(r)])\n",
    "    Ans = Gauss(H,Sh)\n",
    "    print(Ans[0] - Sh[r,0],mm,d/2**r)\n",
    "    if abs(Ans[0] - Sh[r,0]) < eps: break\n",
    "    if r == 2: \n",
    "        hopt=d*(eps/abs(Ans[0] - Sh[1,0]))**(1/mm)\n",
    "print(hopt)"
   ]
  },
  {
   "cell_type": "code",
   "execution_count": 91,
   "metadata": {},
   "outputs": [],
   "source": [
    "def G1(i):  \n",
    "    ans=0\n",
    "    xi = np.linspace(a,b,i+1)\n",
    "    for j in range(1,len(xi)):            \n",
    "        x2 = xi[j]\n",
    "        x1 = xi[j-1]\n",
    "        mo0 = ((x2-a)**(-al+1)-(x1-a)**(-al+1))/(-al+1)\n",
    "        mo1 = ((x2-a)**(-al+2)-(x1-a)**(-al+2))/(-al+2)+a*mo0\n",
    "        mo2 = ((x2-a)**(-al+3)-(x1-a)**(-al+3))/(-al+3)+2*a*mo1-a**2*mo0\n",
    "        mo3 = ((x2-a)**(-al+4)-(x1-a)**(-al+4))/(-al+4)+3*a*mo2-3*a**2*mo1+a**3*mo0\n",
    "        mo4 = ((x2-a)**(-al+5)-(x1-a)**(-al+5))/(-al+5)+4*a*mo3-6*a**2*mo2+a**3*4*mo1-a**4*mo0\n",
    "        mo5 = ((x2-a)**(-al+6)-(x1-a)**(-al+6))/(-al+6)+5*a*mo4-10*a**2*mo3+10*a**3*mo2-a**4*5*mo1+a**5*mo0\n",
    "        X = np.array([[mo0,mo1,mo2],[mo1,mo2,mo3],[mo2,mo3,mo4]])\n",
    "        Ai = np.array([[-mo3,-mo4,-mo5]])\n",
    "        ai = Gauss(X,Ai.T)\n",
    "        #x = np.roots([1,ai[2],ai[1],ai[0]])\n",
    "        x = Card(ai[2],ai[1],ai[0])\n",
    "        #x = np.sort(x)\n",
    "        Xd = np.array([[1,1,1],[x[0],x[1],x[2]],[x[0]**2,x[1]**2,x[2]**2]])\n",
    "        M = np.array([[mo0,mo1,mo2]])\n",
    "        A = Gauss(Xd,M.T)\n",
    "        ans+=A[0]*Fnum(x[0])+A[1]*Fnum(x[1])+A[2]*Fnum(x[2])\n",
    "    return ans"
   ]
  },
  {
   "cell_type": "code",
   "execution_count": 92,
   "metadata": {},
   "outputs": [
    {
     "name": "stdout",
     "output_type": "stream",
     "text": [
      "0.10083165433653463 2.504216883526916 0.725\n",
      "-9.726913470586851e-05 6.29830049549923 0.3625\n",
      "-5.287695472588894e-07 5.038795907853546 0.18125\n",
      "0.018240870367620315\n"
     ]
    }
   ],
   "source": [
    "d = b-a\n",
    "for r in range(2,10):\n",
    "    Sh = np.zeros((r+1,1))\n",
    "    H = np.zeros((r+1,r+1))\n",
    "    for j in range(r+1):\n",
    "        Sh[j,0] = -G1(2**j)\n",
    "    mm = -m.log(abs((-Sh[-1,0]+Sh[-2,0])/(-Sh[-2,0]+Sh[-3,0])))/m.log(2)\n",
    "    H[:,0] = np.ones((r+1,1))[:,0]\n",
    "    for j in range(r+1):\n",
    "        H[j,1:] = np.array([(d/2**j)**(mm+i) for i in range(r)])\n",
    "    Ans = Gauss(H,Sh)\n",
    "    print(Ans[0] - Sh[r,0],mm,d/2**r)\n",
    "    if r == 2: \n",
    "        hoptg=d*(eps/abs(Ans[0] - Sh[1,0]))**(1/mm)\n",
    "    if abs(Ans[0] - Sh[r,0]) < eps: break\n",
    "print(hoptg)"
   ]
  },
  {
   "cell_type": "code",
   "execution_count": null,
   "metadata": {},
   "outputs": [],
   "source": []
  },
  {
   "cell_type": "code",
   "execution_count": null,
   "metadata": {},
   "outputs": [],
   "source": []
  },
  {
   "cell_type": "code",
   "execution_count": 93,
   "metadata": {},
   "outputs": [],
   "source": [
    "def G1(l):  \n",
    "    ans=0\n",
    "    ii = 0\n",
    "    while a+l*ii < b:\n",
    "        x1 = a+l*ii\n",
    "        if a+l*(ii+1) <= b: x2 = a+l*(ii+1)\n",
    "        else: x2 = b\n",
    "        \n",
    "        mo0 = ((x2-a)**(-al+1)-(x1-a)**(-al+1))/(-al+1)\n",
    "        mo1 = ((x2-a)**(-al+2)-(x1-a)**(-al+2))/(-al+2)+a*mo0\n",
    "        mo2 = ((x2-a)**(-al+3)-(x1-a)**(-al+3))/(-al+3)+2*a*mo1-a**2*mo0\n",
    "        mo3 = ((x2-a)**(-al+4)-(x1-a)**(-al+4))/(-al+4)+3*a*mo2-3*a**2*mo1+a**3*mo0\n",
    "        mo4 = ((x2-a)**(-al+5)-(x1-a)**(-al+5))/(-al+5)+4*a*mo3-6*a**2*mo2+a**3*4*mo1-a**4*mo0\n",
    "        mo5 = ((x2-a)**(-al+6)-(x1-a)**(-al+6))/(-al+6)+5*a*mo4-10*a**2*mo3+10*a**3*mo2-a**4*5*mo1+a**5*mo0\n",
    "        X = np.array([[mo0,mo1,mo2],[mo1,mo2,mo3],[mo2,mo3,mo4]])\n",
    "        Ai = np.array([[-mo3,-mo4,-mo5]])\n",
    "        ai = Gauss(X,Ai.T)\n",
    "        \n",
    "        x = Card(ai[2],ai[1],ai[0])\n",
    "        #x = np.sort(x)\n",
    "      \n",
    "        Xd = np.array([[1,1,1],[x[0],x[1],x[2]],[x[0]**2,x[1]**2,x[2]**2]])\n",
    "        M = np.array([[mo0,mo1,mo2]])\n",
    "        A = Gauss(Xd,M.T)\n",
    "        ans+=A[0]*Fnum(x[0])+A[1]*Fnum(x[1])+A[2]*Fnum(x[2])\n",
    "        ii+=1\n",
    "    return ans"
   ]
  },
  {
   "cell_type": "code",
   "execution_count": 97,
   "metadata": {},
   "outputs": [
    {
     "name": "stdout",
     "output_type": "stream",
     "text": [
      "1.6352075249415066e-10 -52.211084256586894\n"
     ]
    }
   ],
   "source": [
    "for r in range(2,5):\n",
    "    Sh = np.zeros((r+1,1))\n",
    "    H = np.zeros((r+1,r+1))\n",
    "    for j in range(r+1):\n",
    "        Sh[j,0] = -G1(hoptg/2**j)\n",
    "       \n",
    "    \n",
    "    if r == 1: mm = 2.5\n",
    "    else: mm = -m.log(abs((-Sh[-1,0]+Sh[-2,0])/(-Sh[-2,0]+Sh[-3,0])))/m.log(2)\n",
    "    H[:,0] = np.ones((r+1,1))[:,0]\n",
    "    for j in range(r+1):\n",
    "        H[j,1:] = np.array([(d/2**j)**(mm+i) for i in range(r)])\n",
    "    Ans = Gauss(H,Sh)\n",
    "    print(Ans[0] - Sh[r-1,0],mm)\n",
    "    if abs(Ans[0] - Sh[r-1,0]) < eps: break"
   ]
  },
  {
   "cell_type": "code",
   "execution_count": null,
   "metadata": {},
   "outputs": [],
   "source": []
  }
 ],
 "metadata": {
  "kernelspec": {
   "display_name": "Python 3",
   "language": "python",
   "name": "python3"
  },
  "language_info": {
   "codemirror_mode": {
    "name": "ipython",
    "version": 3
   },
   "file_extension": ".py",
   "mimetype": "text/x-python",
   "name": "python",
   "nbconvert_exporter": "python",
   "pygments_lexer": "ipython3",
   "version": "3.8.3"
  }
 },
 "nbformat": 4,
 "nbformat_minor": 4
}
