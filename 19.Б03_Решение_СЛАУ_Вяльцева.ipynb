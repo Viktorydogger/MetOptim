{
 "cells": [
  {
   "cell_type": "code",
   "execution_count": 25,
   "metadata": {},
   "outputs": [],
   "source": [
    "import pandas as pd\n",
    "import numpy as np\n",
    "import sympy as sp\n",
    "n = 7 # номер варианта\n",
    "# генерирование СЛАУ для проверки - A1\n",
    "A = np.matrix(np.ones((3,3)))\n",
    "for i in range(3):\n",
    "        for j in range(3):\n",
    "            if j==i:\n",
    "                A[i,j] = i + j + n +2\n",
    "b1 = np.transpose(np.matrix([n + (i+2)*2 for i in range(3)]))\n",
    "# генерирование плохо обусловленных СЛАУ - A21, А22\n",
    "\n",
    "A_1 = np.eye(5)\n",
    "A_2 = np.matrix(np.ones((5,5)))\n",
    "for i in range(5):\n",
    "        for j in range(5):\n",
    "            if j > i:\n",
    "                A_1[i,j] = -1\n",
    "                A_2[i,j] = -1\n",
    "# задание eps из условия\n",
    "eps1 = 10**(-4)\n",
    "eps2 = 10**(-6)                \n",
    "B1 = A_1 + n*eps1*A_2 \n",
    "B2 = A_1 + n*eps2*A_2 \n",
    "b12 = np.transpose(np.matrix(np.ones(5)))\n",
    "b12[4,0] = -1\n",
    "\n",
    "A_1 = np.eye(6)\n",
    "A_2 = np.matrix(np.ones((6,6)))\n",
    "for i in range(6):\n",
    "        for j in range(6):\n",
    "            if j > i:\n",
    "                A_1[i,j] = -1\n",
    "                A_2[i,j] = -1              \n",
    "B3 = A_1 + n*eps1*A_2 \n",
    "B4 = A_1 + n*eps2*A_2 \n",
    "b34 = np.transpose(np.matrix(np.ones(6)))\n",
    "b34[5,0] = -1\n",
    "\n",
    "A_1 = np.eye(7)\n",
    "A_2 = np.matrix(np.ones((7,7)))\n",
    "for i in range(7):\n",
    "        for j in range(7):\n",
    "            if j > i:\n",
    "                A_1[i,j] = -1\n",
    "                A_2[i,j] = -1              \n",
    "B5 = A_1 + n*eps1*A_2 \n",
    "B6 = A_1 + n*eps2*A_2 \n",
    "b56 = np.transpose(np.matrix(np.ones(7)))\n",
    "b56[6,0] = -1\n",
    "All_mat = {0:A,1:B1,2:B2,3:B3,4:B4,5:B5,6:B6}\n",
    "name_mat = {0:\"A\",1:\"B1\",2:\"B2\",3:\"B3\",4:\"B4\",5:\"B5\",6:\"B6\"}\n",
    "name_vect = {0:b1,1:b12,2:b12,3:b34,4:b34,5:b56,6:b56}"
   ]
  },
  {
   "cell_type": "code",
   "execution_count": 26,
   "metadata": {},
   "outputs": [
    {
     "name": "stdout",
     "output_type": "stream",
     "text": [
      "[[ 9.  1.  1.]\n",
      " [ 1. 11.  1.]\n",
      " [ 1.  1. 13.]]\n",
      "[[11]\n",
      " [13]\n",
      " [15]]\n"
     ]
    }
   ],
   "source": [
    "print(A)\n",
    "print(b1)"
   ]
  },
  {
   "cell_type": "code",
   "execution_count": 27,
   "metadata": {},
   "outputs": [
    {
     "name": "stdout",
     "output_type": "stream",
     "text": [
      "[[ 1.0007e+00 -1.0007e+00 -1.0007e+00 -1.0007e+00 -1.0007e+00]\n",
      " [ 7.0000e-04  1.0007e+00 -1.0007e+00 -1.0007e+00 -1.0007e+00]\n",
      " [ 7.0000e-04  7.0000e-04  1.0007e+00 -1.0007e+00 -1.0007e+00]\n",
      " [ 7.0000e-04  7.0000e-04  7.0000e-04  1.0007e+00 -1.0007e+00]\n",
      " [ 7.0000e-04  7.0000e-04  7.0000e-04  7.0000e-04  1.0007e+00]]\n",
      "[[ 1.000007e+00 -1.000007e+00 -1.000007e+00 -1.000007e+00 -1.000007e+00]\n",
      " [ 7.000000e-06  1.000007e+00 -1.000007e+00 -1.000007e+00 -1.000007e+00]\n",
      " [ 7.000000e-06  7.000000e-06  1.000007e+00 -1.000007e+00 -1.000007e+00]\n",
      " [ 7.000000e-06  7.000000e-06  7.000000e-06  1.000007e+00 -1.000007e+00]\n",
      " [ 7.000000e-06  7.000000e-06  7.000000e-06  7.000000e-06  1.000007e+00]]\n",
      "[[ 1.]\n",
      " [ 1.]\n",
      " [ 1.]\n",
      " [ 1.]\n",
      " [-1.]]\n"
     ]
    }
   ],
   "source": [
    "print(B1)\n",
    "print(B2)\n",
    "print(b12)"
   ]
  },
  {
   "cell_type": "code",
   "execution_count": 28,
   "metadata": {},
   "outputs": [
    {
     "name": "stdout",
     "output_type": "stream",
     "text": [
      "[[ 1.0007e+00 -1.0007e+00 -1.0007e+00 -1.0007e+00 -1.0007e+00 -1.0007e+00]\n",
      " [ 7.0000e-04  1.0007e+00 -1.0007e+00 -1.0007e+00 -1.0007e+00 -1.0007e+00]\n",
      " [ 7.0000e-04  7.0000e-04  1.0007e+00 -1.0007e+00 -1.0007e+00 -1.0007e+00]\n",
      " [ 7.0000e-04  7.0000e-04  7.0000e-04  1.0007e+00 -1.0007e+00 -1.0007e+00]\n",
      " [ 7.0000e-04  7.0000e-04  7.0000e-04  7.0000e-04  1.0007e+00 -1.0007e+00]\n",
      " [ 7.0000e-04  7.0000e-04  7.0000e-04  7.0000e-04  7.0000e-04  1.0007e+00]]\n",
      "[[ 1.000007e+00 -1.000007e+00 -1.000007e+00 -1.000007e+00 -1.000007e+00\n",
      "  -1.000007e+00]\n",
      " [ 7.000000e-06  1.000007e+00 -1.000007e+00 -1.000007e+00 -1.000007e+00\n",
      "  -1.000007e+00]\n",
      " [ 7.000000e-06  7.000000e-06  1.000007e+00 -1.000007e+00 -1.000007e+00\n",
      "  -1.000007e+00]\n",
      " [ 7.000000e-06  7.000000e-06  7.000000e-06  1.000007e+00 -1.000007e+00\n",
      "  -1.000007e+00]\n",
      " [ 7.000000e-06  7.000000e-06  7.000000e-06  7.000000e-06  1.000007e+00\n",
      "  -1.000007e+00]\n",
      " [ 7.000000e-06  7.000000e-06  7.000000e-06  7.000000e-06  7.000000e-06\n",
      "   1.000007e+00]]\n",
      "[[ 1.]\n",
      " [ 1.]\n",
      " [ 1.]\n",
      " [ 1.]\n",
      " [ 1.]\n",
      " [-1.]]\n"
     ]
    }
   ],
   "source": [
    "print(B3)\n",
    "print(B4)\n",
    "print(b34)"
   ]
  },
  {
   "cell_type": "code",
   "execution_count": 29,
   "metadata": {},
   "outputs": [
    {
     "name": "stdout",
     "output_type": "stream",
     "text": [
      "[[ 1.0007e+00 -1.0007e+00 -1.0007e+00 -1.0007e+00 -1.0007e+00 -1.0007e+00\n",
      "  -1.0007e+00]\n",
      " [ 7.0000e-04  1.0007e+00 -1.0007e+00 -1.0007e+00 -1.0007e+00 -1.0007e+00\n",
      "  -1.0007e+00]\n",
      " [ 7.0000e-04  7.0000e-04  1.0007e+00 -1.0007e+00 -1.0007e+00 -1.0007e+00\n",
      "  -1.0007e+00]\n",
      " [ 7.0000e-04  7.0000e-04  7.0000e-04  1.0007e+00 -1.0007e+00 -1.0007e+00\n",
      "  -1.0007e+00]\n",
      " [ 7.0000e-04  7.0000e-04  7.0000e-04  7.0000e-04  1.0007e+00 -1.0007e+00\n",
      "  -1.0007e+00]\n",
      " [ 7.0000e-04  7.0000e-04  7.0000e-04  7.0000e-04  7.0000e-04  1.0007e+00\n",
      "  -1.0007e+00]\n",
      " [ 7.0000e-04  7.0000e-04  7.0000e-04  7.0000e-04  7.0000e-04  7.0000e-04\n",
      "   1.0007e+00]]\n",
      "[[ 1.000007e+00 -1.000007e+00 -1.000007e+00 -1.000007e+00 -1.000007e+00\n",
      "  -1.000007e+00 -1.000007e+00]\n",
      " [ 7.000000e-06  1.000007e+00 -1.000007e+00 -1.000007e+00 -1.000007e+00\n",
      "  -1.000007e+00 -1.000007e+00]\n",
      " [ 7.000000e-06  7.000000e-06  1.000007e+00 -1.000007e+00 -1.000007e+00\n",
      "  -1.000007e+00 -1.000007e+00]\n",
      " [ 7.000000e-06  7.000000e-06  7.000000e-06  1.000007e+00 -1.000007e+00\n",
      "  -1.000007e+00 -1.000007e+00]\n",
      " [ 7.000000e-06  7.000000e-06  7.000000e-06  7.000000e-06  1.000007e+00\n",
      "  -1.000007e+00 -1.000007e+00]\n",
      " [ 7.000000e-06  7.000000e-06  7.000000e-06  7.000000e-06  7.000000e-06\n",
      "   1.000007e+00 -1.000007e+00]\n",
      " [ 7.000000e-06  7.000000e-06  7.000000e-06  7.000000e-06  7.000000e-06\n",
      "   7.000000e-06  1.000007e+00]]\n",
      "[[ 1.]\n",
      " [ 1.]\n",
      " [ 1.]\n",
      " [ 1.]\n",
      " [ 1.]\n",
      " [ 1.]\n",
      " [-1.]]\n"
     ]
    }
   ],
   "source": [
    "print(B5)\n",
    "print(B6)\n",
    "print(b56)"
   ]
  },
  {
   "cell_type": "code",
   "execution_count": 30,
   "metadata": {},
   "outputs": [],
   "source": [
    "# 1 норма матрицы\n",
    "def norma1(A):\n",
    "    n = A.shape[0]\n",
    "    s = 0\n",
    "    s1 = 0\n",
    "    for i in range(n):\n",
    "        if s > s1:\n",
    "            s1 = s\n",
    "        s = 0\n",
    "        for j in range(n):\n",
    "            s += abs(A[i,j])\n",
    "    if s > s1:\n",
    "            s1 = s\n",
    "    return s1"
   ]
  },
  {
   "cell_type": "code",
   "execution_count": 31,
   "metadata": {},
   "outputs": [],
   "source": [
    "# 2 норма матрицы\n",
    "def norma2(A):\n",
    "    n = A.shape[0]\n",
    "    s = 0\n",
    "    s1 = 0\n",
    "    for i in range(n):\n",
    "        if s > s1:\n",
    "            s1 = s\n",
    "        s = 0\n",
    "        for j in range(n):\n",
    "            s += abs(A[j,i])\n",
    "    if s > s1:\n",
    "            s1 = s\n",
    "    return s1"
   ]
  },
  {
   "cell_type": "code",
   "execution_count": 32,
   "metadata": {},
   "outputs": [],
   "source": [
    "# 3 норма матрицы\n",
    "def norma3(A):\n",
    "    n = A.shape[0]\n",
    "    s = 0\n",
    "    for i in range(n):\n",
    "        for j in range(n):\n",
    "            s += (A[i,j])**2\n",
    "    return s**(1/2)"
   ]
  },
  {
   "cell_type": "code",
   "execution_count": 33,
   "metadata": {},
   "outputs": [],
   "source": [
    "# число обусловленности с помощю трёх разных норм\n",
    "def v(A,k):\n",
    "    n = A.shape[0]\n",
    "    if k == 1:\n",
    "        return norma1(A)*norma1(Gauss(A,np.eye(n)))\n",
    "    if k == 2:\n",
    "        return norma2(A)*norma2(Gauss(A,np.eye(n)))\n",
    "    if k == 3:\n",
    "        return norma3(A)*norma3(Gauss(A,np.eye(n)))"
   ]
  },
  {
   "cell_type": "code",
   "execution_count": 34,
   "metadata": {},
   "outputs": [],
   "source": [
    "def v_table(dict1,dict2,dict3):\n",
    "    table = pd.DataFrame({\"Матрица\":[],\"v по норме 1\":[],\"v по норме 2\":[],\"v по норме 3\":[],\"количество итераций\":[]})\n",
    "    for i in range(7):\n",
    "        a = All_mat[i]\n",
    "        b = name_vect[i]\n",
    "        line ={\"Матрица\":name_mat[i],\"v по норме 1\":v(a,1),\"v по норме 2\":v(a,2),\"v по норме 3\":v(a,3),\"количество итераций\":steep(a,b)}\n",
    "        table = table.append(line,ignore_index=True)\n",
    "    return table"
   ]
  },
  {
   "cell_type": "code",
   "execution_count": 35,
   "metadata": {},
   "outputs": [
    {
     "data": {
      "text/html": [
       "<div>\n",
       "<style scoped>\n",
       "    .dataframe tbody tr th:only-of-type {\n",
       "        vertical-align: middle;\n",
       "    }\n",
       "\n",
       "    .dataframe tbody tr th {\n",
       "        vertical-align: top;\n",
       "    }\n",
       "\n",
       "    .dataframe thead th {\n",
       "        text-align: right;\n",
       "    }\n",
       "</style>\n",
       "<table border=\"1\" class=\"dataframe\">\n",
       "  <thead>\n",
       "    <tr style=\"text-align: right;\">\n",
       "      <th></th>\n",
       "      <th>Матрица</th>\n",
       "      <th>v по норме 1</th>\n",
       "      <th>v по норме 2</th>\n",
       "      <th>v по норме 3</th>\n",
       "      <th>количество итераций</th>\n",
       "    </tr>\n",
       "  </thead>\n",
       "  <tbody>\n",
       "    <tr>\n",
       "      <th>0</th>\n",
       "      <td>A</td>\n",
       "      <td>1.958599</td>\n",
       "      <td>1.958599</td>\n",
       "      <td>3.236803</td>\n",
       "      <td>38.0</td>\n",
       "    </tr>\n",
       "    <tr>\n",
       "      <th>1</th>\n",
       "      <td>B1</td>\n",
       "      <td>78.571612</td>\n",
       "      <td>78.571612</td>\n",
       "      <td>41.141629</td>\n",
       "      <td>58.0</td>\n",
       "    </tr>\n",
       "    <tr>\n",
       "      <th>2</th>\n",
       "      <td>B2</td>\n",
       "      <td>79.985443</td>\n",
       "      <td>79.985443</td>\n",
       "      <td>41.885065</td>\n",
       "      <td>52.0</td>\n",
       "    </tr>\n",
       "    <tr>\n",
       "      <th>3</th>\n",
       "      <td>B3</td>\n",
       "      <td>184.641741</td>\n",
       "      <td>184.641741</td>\n",
       "      <td>94.396554</td>\n",
       "      <td>175.0</td>\n",
       "    </tr>\n",
       "    <tr>\n",
       "      <th>4</th>\n",
       "      <td>B4</td>\n",
       "      <td>191.923423</td>\n",
       "      <td>191.923423</td>\n",
       "      <td>98.139048</td>\n",
       "      <td>64.0</td>\n",
       "    </tr>\n",
       "    <tr>\n",
       "      <th>5</th>\n",
       "      <td>B5</td>\n",
       "      <td>413.325000</td>\n",
       "      <td>413.325000</td>\n",
       "      <td>208.493772</td>\n",
       "      <td>1138.0</td>\n",
       "    </tr>\n",
       "    <tr>\n",
       "      <th>6</th>\n",
       "      <td>B6</td>\n",
       "      <td>447.624001</td>\n",
       "      <td>447.624001</td>\n",
       "      <td>225.862676</td>\n",
       "      <td>101.0</td>\n",
       "    </tr>\n",
       "  </tbody>\n",
       "</table>\n",
       "</div>"
      ],
      "text/plain": [
       "  Матрица  v по норме 1  v по норме 2  v по норме 3  количество итераций\n",
       "0       A      1.958599      1.958599      3.236803                 38.0\n",
       "1      B1     78.571612     78.571612     41.141629                 58.0\n",
       "2      B2     79.985443     79.985443     41.885065                 52.0\n",
       "3      B3    184.641741    184.641741     94.396554                175.0\n",
       "4      B4    191.923423    191.923423     98.139048                 64.0\n",
       "5      B5    413.325000    413.325000    208.493772               1138.0\n",
       "6      B6    447.624001    447.624001    225.862676                101.0"
      ]
     },
     "execution_count": 35,
     "metadata": {},
     "output_type": "execute_result"
    }
   ],
   "source": [
    "v_table(All_mat,name_mat,name_vect)"
   ]
  },
  {
   "cell_type": "code",
   "execution_count": 18,
   "metadata": {},
   "outputs": [],
   "source": [
    "# проверяем, есть ли на главной диагонали нули\n",
    "def no0(M, k):\n",
    "    n =  M.shape[0]\n",
    "    while k < n and not M[k, k]:\n",
    "        k += 1\n",
    "    return k"
   ]
  },
  {
   "cell_type": "code",
   "execution_count": null,
   "metadata": {},
   "outputs": [],
   "source": [
    "def Gauss(A,b):\n",
    "        M = np.hstack((A, b)) # \"склейка\" матрицы коэффициентов при переменных и вектора свободных членов\n",
    "        n = M.shape[0] \n",
    "        for k in range(n): \n",
    "            # убираем нули с главной диагонали, если они есть\n",
    "            k0 = no0(M, k)\n",
    "            if k0 != k:\n",
    "                M[k0], M[k] = M[k].copy(), M[k0]   \n",
    "            if M[k, k] != 1:\n",
    "                M[k, :] *= 1 / M[k, k]\n",
    "            # приямой ход метода Гаусса\n",
    "            for r in range(k + 1, n):\n",
    "                M[r, :] -= M[k, :] * M[r, k]\n",
    "        #обратный ход метода Гаусса\n",
    "        for k in range(n - 1, 0, -1):\n",
    "            for r in range(k - 1, -1, -1):\n",
    "                if M[r, k]:\n",
    "                    M[r, :] -= M[k, :] * M[r, k]\n",
    "        if b.shape[1] > 1:\n",
    "            return np.hsplit(M,2)[1]\n",
    "        return  (M[:,n])"
   ]
  },
  {
   "cell_type": "code",
   "execution_count": 20,
   "metadata": {},
   "outputs": [],
   "source": [
    "# норма вектора\n",
    "def norma(b):\n",
    "    n = b.shape[0]\n",
    "    if n == 1:\n",
    "        b = np.transpose(b)\n",
    "        n = b.shape[0]\n",
    "    s = 0\n",
    "    for j in range(n):\n",
    "            s += (b[j])**2\n",
    "    return np.sqrt(s)"
   ]
  },
  {
   "cell_type": "code",
   "execution_count": 1,
   "metadata": {},
   "outputs": [],
   "source": [
    "# метод отражений\n",
    "def mir(A, b):\n",
    "    n = A.shape[0]\n",
    "    for i in range(n-1):\n",
    "        #генерирование вектора единичной длины - w\n",
    "        z = np.eye(n)[i,i:n]\n",
    "        y = np.transpose(A[i:n,i])\n",
    "        a = np.linalg.norm(y)/np.linalg.norm(z) \n",
    "        w = (y - a*z)/norma(y - a*z)\n",
    "        #генерирование матрицы отражений - U\n",
    "        U = np.eye(n-i,n-i) - 2*np.transpose(w)*w\n",
    "        U = np.block([[np.eye(n,n)[0:i,:]],[np.zeros((n-i,i)), U]])\n",
    "        A = U*A\n",
    "        b = U*b\n",
    "    M = np.hstack((A, b)) # обратный ход метода Гаусса\n",
    "    for i in range(n):\n",
    "        for j in range(n):\n",
    "            if abs(M[i,j]) < 10**(-10):\n",
    "                M[i,j] = 0\n",
    "        if M[i, i] != 1:\n",
    "            M[i, :] *= 1 / M[i, i]\n",
    "    for k in range(n - 1, 0, -1):\n",
    "           for r in range(k - 1, -1, -1):\n",
    "                if M[r, k]:\n",
    "                    M[r, :] -= M[k, :] * M[r, k]\n",
    "    return  (M[:,n])"
   ]
  },
  {
   "cell_type": "code",
   "execution_count": 2,
   "metadata": {},
   "outputs": [],
   "source": [
    "#метод наискорейшего градиентного спуска\n",
    "def steep(A,b):\n",
    "    n = 0\n",
    "    n = A.shape[0]\n",
    "    x = np.zeros((n,1)) #начальное приближение\n",
    "    # поиск вектора невязки\n",
    "    r = A*x - b\n",
    "    eps = 10**(-9)\n",
    "    while norma(r)[0,0] > eps:\n",
    "        n+=1\n",
    "        a = A*r\n",
    "        # вычисление длины шага\n",
    "        lam = (1/2)*(np.transpose(r)*r)/(np.transpose(a)*r)\n",
    "        x = x - lam[0,0]*r\n",
    "        r = A*x - b\n",
    "    return x"
   ]
  },
  {
   "cell_type": "code",
   "execution_count": 3,
   "metadata": {},
   "outputs": [],
   "source": [
    "def out_table(A,b,k):\n",
    "    n = A.shape[0]\n",
    "    table = pd.DataFrame({\"Гаусс\":[],\"Отражения\":[],\"Наискор.спуск\":[],\"Встроенная функция\":[]})\n",
    "    x1 = np.array(Gauss(A,b)).round(k)\n",
    "    x2 = np.array(mir(A,b)).round(k)\n",
    "    x3 = np.array(steep(A,b)).round(k)\n",
    "    x4 = np.array(np.linalg.solve(A,b)).round(k)\n",
    "    for i in range(n):\n",
    "        line ={\"Гаусс\":x1[i,0],\"Отражения\":x2[i,0],\"Наискор.спуск\":x3[i,0],\"Встроенная функция\":x4[i,0]}\n",
    "        table=table.append(line,ignore_index=True)\n",
    "    return table"
   ]
  },
  {
   "cell_type": "code",
   "execution_count": 4,
   "metadata": {},
   "outputs": [
    {
     "ename": "NameError",
     "evalue": "name 'A' is not defined",
     "output_type": "error",
     "traceback": [
      "\u001b[1;31m---------------------------------------------------------------------------\u001b[0m",
      "\u001b[1;31mNameError\u001b[0m                                 Traceback (most recent call last)",
      "\u001b[1;32m<ipython-input-4-7d157d7c000a>\u001b[0m in \u001b[0;36m<module>\u001b[1;34m\u001b[0m\n\u001b[1;32m----> 1\u001b[1;33m \u001b[0mA\u001b[0m\u001b[1;33m\u001b[0m\u001b[1;33m\u001b[0m\u001b[0m\n\u001b[0m",
      "\u001b[1;31mNameError\u001b[0m: name 'A' is not defined"
     ]
    }
   ],
   "source": [
    "A"
   ]
  },
  {
   "cell_type": "code",
   "execution_count": 24,
   "metadata": {},
   "outputs": [
    {
     "data": {
      "text/plain": [
       "matrix([[11],\n",
       "        [13],\n",
       "        [15]])"
      ]
     },
     "execution_count": 24,
     "metadata": {},
     "output_type": "execute_result"
    }
   ],
   "source": [
    "b1"
   ]
  },
  {
   "cell_type": "code",
   "execution_count": 25,
   "metadata": {},
   "outputs": [
    {
     "name": "stdout",
     "output_type": "stream",
     "text": [
      "количество итераций при решении методом наискорейшего спуска - 38\n"
     ]
    },
    {
     "data": {
      "text/html": [
       "<div>\n",
       "<style scoped>\n",
       "    .dataframe tbody tr th:only-of-type {\n",
       "        vertical-align: middle;\n",
       "    }\n",
       "\n",
       "    .dataframe tbody tr th {\n",
       "        vertical-align: top;\n",
       "    }\n",
       "\n",
       "    .dataframe thead th {\n",
       "        text-align: right;\n",
       "    }\n",
       "</style>\n",
       "<table border=\"1\" class=\"dataframe\">\n",
       "  <thead>\n",
       "    <tr style=\"text-align: right;\">\n",
       "      <th></th>\n",
       "      <th>Гаусс</th>\n",
       "      <th>Отражения</th>\n",
       "      <th>Наискор.спуск</th>\n",
       "      <th>Встроенная функция</th>\n",
       "    </tr>\n",
       "  </thead>\n",
       "  <tbody>\n",
       "    <tr>\n",
       "      <th>0</th>\n",
       "      <td>1.0</td>\n",
       "      <td>1.0</td>\n",
       "      <td>1.0</td>\n",
       "      <td>1.0</td>\n",
       "    </tr>\n",
       "    <tr>\n",
       "      <th>1</th>\n",
       "      <td>1.0</td>\n",
       "      <td>1.0</td>\n",
       "      <td>1.0</td>\n",
       "      <td>1.0</td>\n",
       "    </tr>\n",
       "    <tr>\n",
       "      <th>2</th>\n",
       "      <td>1.0</td>\n",
       "      <td>1.0</td>\n",
       "      <td>1.0</td>\n",
       "      <td>1.0</td>\n",
       "    </tr>\n",
       "  </tbody>\n",
       "</table>\n",
       "</div>"
      ],
      "text/plain": [
       "   Гаусс  Отражения  Наискор.спуск  Встроенная функция\n",
       "0    1.0        1.0            1.0                 1.0\n",
       "1    1.0        1.0            1.0                 1.0\n",
       "2    1.0        1.0            1.0                 1.0"
      ]
     },
     "execution_count": 25,
     "metadata": {},
     "output_type": "execute_result"
    }
   ],
   "source": [
    "out_table(A,b1,7)"
   ]
  },
  {
   "cell_type": "code",
   "execution_count": 26,
   "metadata": {},
   "outputs": [
    {
     "name": "stdout",
     "output_type": "stream",
     "text": [
      "[[10  2  3  4]\n",
      " [ 2 40  4  1]\n",
      " [ 1  1 30  1]\n",
      " [ 2  3  4 13]]\n"
     ]
    }
   ],
   "source": [
    "D = np.matrix([[10, 2, 3, 4],[2, 40, 4,1,],[1, 1, 30, 1,],[2, 3, 4, 13]])\n",
    "print(D)\n",
    "b = np.matrix([[0],[9],[9],[9]])"
   ]
  },
  {
   "cell_type": "code",
   "execution_count": 27,
   "metadata": {},
   "outputs": [
    {
     "name": "stdout",
     "output_type": "stream",
     "text": [
      "количество итераций при решении методом наискорейшего спуска - 60\n"
     ]
    },
    {
     "data": {
      "text/html": [
       "<div>\n",
       "<style scoped>\n",
       "    .dataframe tbody tr th:only-of-type {\n",
       "        vertical-align: middle;\n",
       "    }\n",
       "\n",
       "    .dataframe tbody tr th {\n",
       "        vertical-align: top;\n",
       "    }\n",
       "\n",
       "    .dataframe thead th {\n",
       "        text-align: right;\n",
       "    }\n",
       "</style>\n",
       "<table border=\"1\" class=\"dataframe\">\n",
       "  <thead>\n",
       "    <tr style=\"text-align: right;\">\n",
       "      <th></th>\n",
       "      <th>Гаусс</th>\n",
       "      <th>Отражения</th>\n",
       "      <th>Наискор.спуск</th>\n",
       "      <th>Встроенная функция</th>\n",
       "    </tr>\n",
       "  </thead>\n",
       "  <tbody>\n",
       "    <tr>\n",
       "      <th>0</th>\n",
       "      <td>0.0</td>\n",
       "      <td>-0.371765</td>\n",
       "      <td>-0.371765</td>\n",
       "      <td>-0.371765</td>\n",
       "    </tr>\n",
       "    <tr>\n",
       "      <th>1</th>\n",
       "      <td>0.0</td>\n",
       "      <td>0.199675</td>\n",
       "      <td>0.199675</td>\n",
       "      <td>0.199675</td>\n",
       "    </tr>\n",
       "    <tr>\n",
       "      <th>2</th>\n",
       "      <td>0.0</td>\n",
       "      <td>0.285214</td>\n",
       "      <td>0.285214</td>\n",
       "      <td>0.285214</td>\n",
       "    </tr>\n",
       "    <tr>\n",
       "      <th>3</th>\n",
       "      <td>0.0</td>\n",
       "      <td>0.615665</td>\n",
       "      <td>0.615665</td>\n",
       "      <td>0.615665</td>\n",
       "    </tr>\n",
       "  </tbody>\n",
       "</table>\n",
       "</div>"
      ],
      "text/plain": [
       "   Гаусс  Отражения  Наискор.спуск  Встроенная функция\n",
       "0    0.0  -0.371765      -0.371765           -0.371765\n",
       "1    0.0   0.199675       0.199675            0.199675\n",
       "2    0.0   0.285214       0.285214            0.285214\n",
       "3    0.0   0.615665       0.615665            0.615665"
      ]
     },
     "execution_count": 27,
     "metadata": {},
     "output_type": "execute_result"
    }
   ],
   "source": [
    "out_table(D,b,19)"
   ]
  },
  {
   "cell_type": "code",
   "execution_count": 374,
   "metadata": {},
   "outputs": [
    {
     "data": {
      "text/plain": [
       "matrix([[ 1.0007e+00, -1.0007e+00, -1.0007e+00, -1.0007e+00, -1.0007e+00],\n",
       "        [ 7.0000e-04,  1.0007e+00, -1.0007e+00, -1.0007e+00, -1.0007e+00],\n",
       "        [ 7.0000e-04,  7.0000e-04,  1.0007e+00, -1.0007e+00, -1.0007e+00],\n",
       "        [ 7.0000e-04,  7.0000e-04,  7.0000e-04,  1.0007e+00, -1.0007e+00],\n",
       "        [ 7.0000e-04,  7.0000e-04,  7.0000e-04,  7.0000e-04,  1.0007e+00]])"
      ]
     },
     "execution_count": 374,
     "metadata": {},
     "output_type": "execute_result"
    }
   ],
   "source": [
    "B1"
   ]
  },
  {
   "cell_type": "code",
   "execution_count": 28,
   "metadata": {},
   "outputs": [
    {
     "name": "stdout",
     "output_type": "stream",
     "text": [
      "количество итераций при решении методом наискорейшего спуска - 58\n"
     ]
    },
    {
     "data": {
      "text/html": [
       "<div>\n",
       "<style scoped>\n",
       "    .dataframe tbody tr th:only-of-type {\n",
       "        vertical-align: middle;\n",
       "    }\n",
       "\n",
       "    .dataframe tbody tr th {\n",
       "        vertical-align: top;\n",
       "    }\n",
       "\n",
       "    .dataframe thead th {\n",
       "        text-align: right;\n",
       "    }\n",
       "</style>\n",
       "<table border=\"1\" class=\"dataframe\">\n",
       "  <thead>\n",
       "    <tr style=\"text-align: right;\">\n",
       "      <th></th>\n",
       "      <th>Гаусс</th>\n",
       "      <th>Отражения</th>\n",
       "      <th>Наискор.спуск</th>\n",
       "      <th>Встроенная функция</th>\n",
       "    </tr>\n",
       "  </thead>\n",
       "  <tbody>\n",
       "    <tr>\n",
       "      <th>0</th>\n",
       "      <td>0.0</td>\n",
       "      <td>0.0</td>\n",
       "      <td>0.0</td>\n",
       "      <td>0.0</td>\n",
       "    </tr>\n",
       "    <tr>\n",
       "      <th>1</th>\n",
       "      <td>0.0</td>\n",
       "      <td>-0.0</td>\n",
       "      <td>0.0</td>\n",
       "      <td>0.0</td>\n",
       "    </tr>\n",
       "    <tr>\n",
       "      <th>2</th>\n",
       "      <td>0.0</td>\n",
       "      <td>0.0</td>\n",
       "      <td>0.0</td>\n",
       "      <td>0.0</td>\n",
       "    </tr>\n",
       "    <tr>\n",
       "      <th>3</th>\n",
       "      <td>0.0</td>\n",
       "      <td>0.0</td>\n",
       "      <td>0.0</td>\n",
       "      <td>0.0</td>\n",
       "    </tr>\n",
       "    <tr>\n",
       "      <th>4</th>\n",
       "      <td>-1.0</td>\n",
       "      <td>-1.0</td>\n",
       "      <td>-1.0</td>\n",
       "      <td>-1.0</td>\n",
       "    </tr>\n",
       "  </tbody>\n",
       "</table>\n",
       "</div>"
      ],
      "text/plain": [
       "   Гаусс  Отражения  Наискор.спуск  Встроенная функция\n",
       "0    0.0        0.0            0.0                 0.0\n",
       "1    0.0       -0.0            0.0                 0.0\n",
       "2    0.0        0.0            0.0                 0.0\n",
       "3    0.0        0.0            0.0                 0.0\n",
       "4   -1.0       -1.0           -1.0                -1.0"
      ]
     },
     "execution_count": 28,
     "metadata": {},
     "output_type": "execute_result"
    }
   ],
   "source": [
    "out_table(B1,b12,2)"
   ]
  },
  {
   "cell_type": "code",
   "execution_count": 29,
   "metadata": {},
   "outputs": [
    {
     "name": "stdout",
     "output_type": "stream",
     "text": [
      "количество итераций при решении методом наискорейшего спуска - 52\n"
     ]
    },
    {
     "data": {
      "text/html": [
       "<div>\n",
       "<style scoped>\n",
       "    .dataframe tbody tr th:only-of-type {\n",
       "        vertical-align: middle;\n",
       "    }\n",
       "\n",
       "    .dataframe tbody tr th {\n",
       "        vertical-align: top;\n",
       "    }\n",
       "\n",
       "    .dataframe thead th {\n",
       "        text-align: right;\n",
       "    }\n",
       "</style>\n",
       "<table border=\"1\" class=\"dataframe\">\n",
       "  <thead>\n",
       "    <tr style=\"text-align: right;\">\n",
       "      <th></th>\n",
       "      <th>Гаусс</th>\n",
       "      <th>Отражения</th>\n",
       "      <th>Наискор.спуск</th>\n",
       "      <th>Встроенная функция</th>\n",
       "    </tr>\n",
       "  </thead>\n",
       "  <tbody>\n",
       "    <tr>\n",
       "      <th>0</th>\n",
       "      <td>-0.0</td>\n",
       "      <td>0.0</td>\n",
       "      <td>0.0</td>\n",
       "      <td>-0.0</td>\n",
       "    </tr>\n",
       "    <tr>\n",
       "      <th>1</th>\n",
       "      <td>-0.0</td>\n",
       "      <td>0.0</td>\n",
       "      <td>-0.0</td>\n",
       "      <td>-0.0</td>\n",
       "    </tr>\n",
       "    <tr>\n",
       "      <th>2</th>\n",
       "      <td>-0.0</td>\n",
       "      <td>0.0</td>\n",
       "      <td>-0.0</td>\n",
       "      <td>-0.0</td>\n",
       "    </tr>\n",
       "    <tr>\n",
       "      <th>3</th>\n",
       "      <td>0.0</td>\n",
       "      <td>0.0</td>\n",
       "      <td>-0.0</td>\n",
       "      <td>-0.0</td>\n",
       "    </tr>\n",
       "    <tr>\n",
       "      <th>4</th>\n",
       "      <td>-1.0</td>\n",
       "      <td>-1.0</td>\n",
       "      <td>-1.0</td>\n",
       "      <td>-1.0</td>\n",
       "    </tr>\n",
       "  </tbody>\n",
       "</table>\n",
       "</div>"
      ],
      "text/plain": [
       "   Гаусс  Отражения  Наискор.спуск  Встроенная функция\n",
       "0   -0.0        0.0            0.0                -0.0\n",
       "1   -0.0        0.0           -0.0                -0.0\n",
       "2   -0.0        0.0           -0.0                -0.0\n",
       "3    0.0        0.0           -0.0                -0.0\n",
       "4   -1.0       -1.0           -1.0                -1.0"
      ]
     },
     "execution_count": 29,
     "metadata": {},
     "output_type": "execute_result"
    }
   ],
   "source": [
    "out_table(B2,b12,2)"
   ]
  },
  {
   "cell_type": "code",
   "execution_count": 30,
   "metadata": {},
   "outputs": [
    {
     "name": "stdout",
     "output_type": "stream",
     "text": [
      "количество итераций при решении методом наискорейшего спуска - 175\n"
     ]
    },
    {
     "data": {
      "text/html": [
       "<div>\n",
       "<style scoped>\n",
       "    .dataframe tbody tr th:only-of-type {\n",
       "        vertical-align: middle;\n",
       "    }\n",
       "\n",
       "    .dataframe tbody tr th {\n",
       "        vertical-align: top;\n",
       "    }\n",
       "\n",
       "    .dataframe thead th {\n",
       "        text-align: right;\n",
       "    }\n",
       "</style>\n",
       "<table border=\"1\" class=\"dataframe\">\n",
       "  <thead>\n",
       "    <tr style=\"text-align: right;\">\n",
       "      <th></th>\n",
       "      <th>Гаусс</th>\n",
       "      <th>Отражения</th>\n",
       "      <th>Наискор.спуск</th>\n",
       "      <th>Встроенная функция</th>\n",
       "    </tr>\n",
       "  </thead>\n",
       "  <tbody>\n",
       "    <tr>\n",
       "      <th>0</th>\n",
       "      <td>0.0</td>\n",
       "      <td>-0.0</td>\n",
       "      <td>-0.0</td>\n",
       "      <td>0.0</td>\n",
       "    </tr>\n",
       "    <tr>\n",
       "      <th>1</th>\n",
       "      <td>0.0</td>\n",
       "      <td>-0.0</td>\n",
       "      <td>-0.0</td>\n",
       "      <td>0.0</td>\n",
       "    </tr>\n",
       "    <tr>\n",
       "      <th>2</th>\n",
       "      <td>0.0</td>\n",
       "      <td>-0.0</td>\n",
       "      <td>-0.0</td>\n",
       "      <td>0.0</td>\n",
       "    </tr>\n",
       "    <tr>\n",
       "      <th>3</th>\n",
       "      <td>0.0</td>\n",
       "      <td>-0.0</td>\n",
       "      <td>-0.0</td>\n",
       "      <td>0.0</td>\n",
       "    </tr>\n",
       "    <tr>\n",
       "      <th>4</th>\n",
       "      <td>0.0</td>\n",
       "      <td>-0.0</td>\n",
       "      <td>-0.0</td>\n",
       "      <td>0.0</td>\n",
       "    </tr>\n",
       "    <tr>\n",
       "      <th>5</th>\n",
       "      <td>-1.0</td>\n",
       "      <td>-1.0</td>\n",
       "      <td>-1.0</td>\n",
       "      <td>-1.0</td>\n",
       "    </tr>\n",
       "  </tbody>\n",
       "</table>\n",
       "</div>"
      ],
      "text/plain": [
       "   Гаусс  Отражения  Наискор.спуск  Встроенная функция\n",
       "0    0.0       -0.0           -0.0                 0.0\n",
       "1    0.0       -0.0           -0.0                 0.0\n",
       "2    0.0       -0.0           -0.0                 0.0\n",
       "3    0.0       -0.0           -0.0                 0.0\n",
       "4    0.0       -0.0           -0.0                 0.0\n",
       "5   -1.0       -1.0           -1.0                -1.0"
      ]
     },
     "execution_count": 30,
     "metadata": {},
     "output_type": "execute_result"
    }
   ],
   "source": [
    "out_table(B3,b34,2)"
   ]
  },
  {
   "cell_type": "code",
   "execution_count": 36,
   "metadata": {},
   "outputs": [
    {
     "name": "stdout",
     "output_type": "stream",
     "text": [
      "количество итераций при решении методом наискорейшего спуска - 64\n"
     ]
    },
    {
     "data": {
      "text/html": [
       "<div>\n",
       "<style scoped>\n",
       "    .dataframe tbody tr th:only-of-type {\n",
       "        vertical-align: middle;\n",
       "    }\n",
       "\n",
       "    .dataframe tbody tr th {\n",
       "        vertical-align: top;\n",
       "    }\n",
       "\n",
       "    .dataframe thead th {\n",
       "        text-align: right;\n",
       "    }\n",
       "</style>\n",
       "<table border=\"1\" class=\"dataframe\">\n",
       "  <thead>\n",
       "    <tr style=\"text-align: right;\">\n",
       "      <th></th>\n",
       "      <th>Гаусс</th>\n",
       "      <th>Отражения</th>\n",
       "      <th>Наискор.спуск</th>\n",
       "      <th>Встроенная функция</th>\n",
       "    </tr>\n",
       "  </thead>\n",
       "  <tbody>\n",
       "    <tr>\n",
       "      <th>0</th>\n",
       "      <td>-0.0</td>\n",
       "      <td>-0.0</td>\n",
       "      <td>0.0</td>\n",
       "      <td>-0.0</td>\n",
       "    </tr>\n",
       "    <tr>\n",
       "      <th>1</th>\n",
       "      <td>-0.0</td>\n",
       "      <td>-0.0</td>\n",
       "      <td>0.0</td>\n",
       "      <td>-0.0</td>\n",
       "    </tr>\n",
       "    <tr>\n",
       "      <th>2</th>\n",
       "      <td>-0.0</td>\n",
       "      <td>-0.0</td>\n",
       "      <td>0.0</td>\n",
       "      <td>-0.0</td>\n",
       "    </tr>\n",
       "    <tr>\n",
       "      <th>3</th>\n",
       "      <td>-0.0</td>\n",
       "      <td>0.0</td>\n",
       "      <td>0.0</td>\n",
       "      <td>-0.0</td>\n",
       "    </tr>\n",
       "    <tr>\n",
       "      <th>4</th>\n",
       "      <td>-0.0</td>\n",
       "      <td>0.0</td>\n",
       "      <td>0.0</td>\n",
       "      <td>-0.0</td>\n",
       "    </tr>\n",
       "    <tr>\n",
       "      <th>5</th>\n",
       "      <td>-1.0</td>\n",
       "      <td>-1.0</td>\n",
       "      <td>-1.0</td>\n",
       "      <td>-1.0</td>\n",
       "    </tr>\n",
       "  </tbody>\n",
       "</table>\n",
       "</div>"
      ],
      "text/plain": [
       "   Гаусс  Отражения  Наискор.спуск  Встроенная функция\n",
       "0   -0.0       -0.0            0.0                -0.0\n",
       "1   -0.0       -0.0            0.0                -0.0\n",
       "2   -0.0       -0.0            0.0                -0.0\n",
       "3   -0.0        0.0            0.0                -0.0\n",
       "4   -0.0        0.0            0.0                -0.0\n",
       "5   -1.0       -1.0           -1.0                -1.0"
      ]
     },
     "execution_count": 36,
     "metadata": {},
     "output_type": "execute_result"
    }
   ],
   "source": [
    "out_table(B4,b34,2)"
   ]
  },
  {
   "cell_type": "code",
   "execution_count": 32,
   "metadata": {},
   "outputs": [
    {
     "name": "stdout",
     "output_type": "stream",
     "text": [
      "количество итераций при решении методом наискорейшего спуска - 1138\n"
     ]
    },
    {
     "data": {
      "text/html": [
       "<div>\n",
       "<style scoped>\n",
       "    .dataframe tbody tr th:only-of-type {\n",
       "        vertical-align: middle;\n",
       "    }\n",
       "\n",
       "    .dataframe tbody tr th {\n",
       "        vertical-align: top;\n",
       "    }\n",
       "\n",
       "    .dataframe thead th {\n",
       "        text-align: right;\n",
       "    }\n",
       "</style>\n",
       "<table border=\"1\" class=\"dataframe\">\n",
       "  <thead>\n",
       "    <tr style=\"text-align: right;\">\n",
       "      <th></th>\n",
       "      <th>Гаусс</th>\n",
       "      <th>Отражения</th>\n",
       "      <th>Наискор.спуск</th>\n",
       "      <th>Встроенная функция</th>\n",
       "    </tr>\n",
       "  </thead>\n",
       "  <tbody>\n",
       "    <tr>\n",
       "      <th>0</th>\n",
       "      <td>-0.0</td>\n",
       "      <td>0.0</td>\n",
       "      <td>-0.0</td>\n",
       "      <td>-0.0</td>\n",
       "    </tr>\n",
       "    <tr>\n",
       "      <th>1</th>\n",
       "      <td>-0.0</td>\n",
       "      <td>0.0</td>\n",
       "      <td>-0.0</td>\n",
       "      <td>-0.0</td>\n",
       "    </tr>\n",
       "    <tr>\n",
       "      <th>2</th>\n",
       "      <td>-0.0</td>\n",
       "      <td>0.0</td>\n",
       "      <td>-0.0</td>\n",
       "      <td>-0.0</td>\n",
       "    </tr>\n",
       "    <tr>\n",
       "      <th>3</th>\n",
       "      <td>-0.0</td>\n",
       "      <td>0.0</td>\n",
       "      <td>-0.0</td>\n",
       "      <td>0.0</td>\n",
       "    </tr>\n",
       "    <tr>\n",
       "      <th>4</th>\n",
       "      <td>-0.0</td>\n",
       "      <td>0.0</td>\n",
       "      <td>-0.0</td>\n",
       "      <td>-0.0</td>\n",
       "    </tr>\n",
       "    <tr>\n",
       "      <th>5</th>\n",
       "      <td>-0.0</td>\n",
       "      <td>0.0</td>\n",
       "      <td>-0.0</td>\n",
       "      <td>0.0</td>\n",
       "    </tr>\n",
       "    <tr>\n",
       "      <th>6</th>\n",
       "      <td>-1.0</td>\n",
       "      <td>-1.0</td>\n",
       "      <td>-1.0</td>\n",
       "      <td>-1.0</td>\n",
       "    </tr>\n",
       "  </tbody>\n",
       "</table>\n",
       "</div>"
      ],
      "text/plain": [
       "   Гаусс  Отражения  Наискор.спуск  Встроенная функция\n",
       "0   -0.0        0.0           -0.0                -0.0\n",
       "1   -0.0        0.0           -0.0                -0.0\n",
       "2   -0.0        0.0           -0.0                -0.0\n",
       "3   -0.0        0.0           -0.0                 0.0\n",
       "4   -0.0        0.0           -0.0                -0.0\n",
       "5   -0.0        0.0           -0.0                 0.0\n",
       "6   -1.0       -1.0           -1.0                -1.0"
      ]
     },
     "execution_count": 32,
     "metadata": {},
     "output_type": "execute_result"
    }
   ],
   "source": [
    "out_table(B5,b56,2)"
   ]
  },
  {
   "cell_type": "code",
   "execution_count": 34,
   "metadata": {},
   "outputs": [
    {
     "name": "stdout",
     "output_type": "stream",
     "text": [
      "количество итераций при решении методом наискорейшего спуска - 101\n"
     ]
    },
    {
     "data": {
      "text/html": [
       "<div>\n",
       "<style scoped>\n",
       "    .dataframe tbody tr th:only-of-type {\n",
       "        vertical-align: middle;\n",
       "    }\n",
       "\n",
       "    .dataframe tbody tr th {\n",
       "        vertical-align: top;\n",
       "    }\n",
       "\n",
       "    .dataframe thead th {\n",
       "        text-align: right;\n",
       "    }\n",
       "</style>\n",
       "<table border=\"1\" class=\"dataframe\">\n",
       "  <thead>\n",
       "    <tr style=\"text-align: right;\">\n",
       "      <th></th>\n",
       "      <th>Гаусс</th>\n",
       "      <th>Отражения</th>\n",
       "      <th>Наискор.спуск</th>\n",
       "      <th>Встроенная функция</th>\n",
       "    </tr>\n",
       "  </thead>\n",
       "  <tbody>\n",
       "    <tr>\n",
       "      <th>0</th>\n",
       "      <td>-0.0</td>\n",
       "      <td>-0.0</td>\n",
       "      <td>0.0</td>\n",
       "      <td>0.0</td>\n",
       "    </tr>\n",
       "    <tr>\n",
       "      <th>1</th>\n",
       "      <td>-0.0</td>\n",
       "      <td>-0.0</td>\n",
       "      <td>0.0</td>\n",
       "      <td>0.0</td>\n",
       "    </tr>\n",
       "    <tr>\n",
       "      <th>2</th>\n",
       "      <td>-0.0</td>\n",
       "      <td>-0.0</td>\n",
       "      <td>-0.0</td>\n",
       "      <td>0.0</td>\n",
       "    </tr>\n",
       "    <tr>\n",
       "      <th>3</th>\n",
       "      <td>0.0</td>\n",
       "      <td>-0.0</td>\n",
       "      <td>0.0</td>\n",
       "      <td>0.0</td>\n",
       "    </tr>\n",
       "    <tr>\n",
       "      <th>4</th>\n",
       "      <td>0.0</td>\n",
       "      <td>-0.0</td>\n",
       "      <td>0.0</td>\n",
       "      <td>0.0</td>\n",
       "    </tr>\n",
       "    <tr>\n",
       "      <th>5</th>\n",
       "      <td>0.0</td>\n",
       "      <td>-0.0</td>\n",
       "      <td>-0.0</td>\n",
       "      <td>0.0</td>\n",
       "    </tr>\n",
       "    <tr>\n",
       "      <th>6</th>\n",
       "      <td>-1.0</td>\n",
       "      <td>-1.0</td>\n",
       "      <td>-1.0</td>\n",
       "      <td>-1.0</td>\n",
       "    </tr>\n",
       "  </tbody>\n",
       "</table>\n",
       "</div>"
      ],
      "text/plain": [
       "   Гаусс  Отражения  Наискор.спуск  Встроенная функция\n",
       "0   -0.0       -0.0            0.0                 0.0\n",
       "1   -0.0       -0.0            0.0                 0.0\n",
       "2   -0.0       -0.0           -0.0                 0.0\n",
       "3    0.0       -0.0            0.0                 0.0\n",
       "4    0.0       -0.0            0.0                 0.0\n",
       "5    0.0       -0.0           -0.0                 0.0\n",
       "6   -1.0       -1.0           -1.0                -1.0"
      ]
     },
     "execution_count": 34,
     "metadata": {},
     "output_type": "execute_result"
    }
   ],
   "source": [
    "out_table(B6,b56,2)"
   ]
  },
  {
   "cell_type": "code",
   "execution_count": 35,
   "metadata": {},
   "outputs": [
    {
     "data": {
      "text/plain": [
       "array([[ 1.,  0., -0.,  0.,  0., -0.],\n",
       "       [ 0.,  1., -0., -0., -0., -0.],\n",
       "       [ 0.,  0.,  1., -0., -0., -0.],\n",
       "       [ 0.,  0.,  0.,  1., -0., -0.],\n",
       "       [ 0.,  0.,  0.,  0.,  1., -0.],\n",
       "       [ 0., -0., -0., -0.,  0.,  1.]])"
      ]
     },
     "execution_count": 35,
     "metadata": {},
     "output_type": "execute_result"
    }
   ],
   "source": [
    "n = B4.shape[0]\n",
    "B4_obr = Gauss(B4,np.eye(n))\n",
    "np.array(B4*B4_obr).round()"
   ]
  },
  {
   "cell_type": "code",
   "execution_count": null,
   "metadata": {},
   "outputs": [],
   "source": []
  }
 ],
 "metadata": {
  "kernelspec": {
   "display_name": "Python 3",
   "language": "python",
   "name": "python3"
  },
  "language_info": {
   "codemirror_mode": {
    "name": "ipython",
    "version": 3
   },
   "file_extension": ".py",
   "mimetype": "text/x-python",
   "name": "python",
   "nbconvert_exporter": "python",
   "pygments_lexer": "ipython3",
   "version": "3.8.3"
  }
 },
 "nbformat": 4,
 "nbformat_minor": 4
}
