{
 "cells": [
  {
   "cell_type": "markdown",
   "metadata": {},
   "source": [
    "3x − cos x − 1 = 0"
   ]
  },
  {
   "cell_type": "markdown",
   "metadata": {},
   "source": [
    "\n",
    "cos x + y = 1.5;\n",
    "2x − sin(y − 0.5) = 1"
   ]
  },
  {
   "cell_type": "code",
   "execution_count": 2,
   "metadata": {},
   "outputs": [],
   "source": [
    "import pandas as pd\n",
    "import numpy as np\n",
    "from sympy import *\n",
    "import matplotlib.pyplot as plt\n",
    "\n",
    "x,y = symbols('x, y')\n"
   ]
  },
  {
   "cell_type": "code",
   "execution_count": 31,
   "metadata": {},
   "outputs": [
    {
     "data": {
      "image/png": "[encoded data removed]",
      "text/plain": [
       "<Figure size 432x288 with 1 Axes>"
      ]
     },
     "metadata": {
      "needs_background": "light"
     },
     "output_type": "display_data"
    }
   ],
   "source": [
    "#локализация корней\n",
    "x1 = np.linspace( -1,2, 1000)\n",
    "y1 = np.cos(x1)\n",
    "y2 = 3*x1 - 1\n",
    "fig, ax = plt.subplots()\n",
    "\n",
    "ax.plot(x1, y1)\n",
    "ax.plot(x1,y2)\n",
    "\n",
    "ax.grid(axis = 'both')\n",
    "\n",
    "plt.show()\n"
   ]
  },
  {
   "cell_type": "code",
   "execution_count": 32,
   "metadata": {},
   "outputs": [
    {
     "data": {
      "text/plain": [
       "0.6071016481031287"
      ]
     },
     "execution_count": 32,
     "metadata": {},
     "output_type": "execute_result"
    }
   ],
   "source": [
    "F = 3*x - cos(x) - 1 # исходное уравнение\n",
    "dF = diff(F,x) # дифференцирование исходного уравнения\n",
    "x0 = 0.5 # начальное приближение\n",
    "x01 = 0\n",
    "# реализация итеративной последовательности метода Ньютона\n",
    "while abs(x0 - x01) > 0.0001:\n",
    "    x01 = x0\n",
    "    x0 = x0 - float(F.subs(x,x0)/dF.subs(x,x0))\n",
    "x0"
   ]
  },
  {
   "cell_type": "code",
   "execution_count": 33,
   "metadata": {},
   "outputs": [
    {
     "data": {
      "text/latex": [
       "$\\displaystyle 0.607101648103123$"
      ],
      "text/plain": [
       "0.607101648103123"
      ]
     },
     "execution_count": 33,
     "metadata": {},
     "output_type": "execute_result"
    }
   ],
   "source": [
    "nsolve(3*x - cos(x) - 1,x,1)"
   ]
  },
  {
   "cell_type": "code",
   "execution_count": 34,
   "metadata": {},
   "outputs": [
    {
     "data": {
      "text/latex": [
       "$\\displaystyle \\sin{\\left(x \\right)} + 3$"
      ],
      "text/plain": [
       "sin(x) + 3"
      ]
     },
     "execution_count": 34,
     "metadata": {},
     "output_type": "execute_result"
    }
   ],
   "source": [
    "dF"
   ]
  },
  {
   "cell_type": "code",
   "execution_count": 35,
   "metadata": {},
   "outputs": [
    {
     "data": {
      "image/png": "[encoded data removed]",
      "text/plain": [
       "<Figure size 432x288 with 1 Axes>"
      ]
     },
     "metadata": {
      "needs_background": "light"
     },
     "output_type": "display_data"
    },
    {
     "data": {
      "image/png": "[encoded data removed]",
      "text/plain": [
       "<Figure size 432x288 with 1 Axes>"
      ]
     },
     "metadata": {
      "needs_background": "light"
     },
     "output_type": "display_data"
    },
    {
     "ename": "AttributeError",
     "evalue": "'Plot' object has no attribute 'grid'",
     "output_type": "error",
     "traceback": [
      "\u001b[1;31m---------------------------------------------------------------------------\u001b[0m",
      "\u001b[1;31mAttributeError\u001b[0m                            Traceback (most recent call last)",
      "\u001b[1;32m<ipython-input-35-cc3265ce31c8>\u001b[0m in \u001b[0;36m<module>\u001b[1;34m\u001b[0m\n\u001b[0;32m      2\u001b[0m \u001b[0mz2\u001b[0m \u001b[1;33m=\u001b[0m \u001b[0mplot_implicit\u001b[0m\u001b[1;33m(\u001b[0m\u001b[0mEq\u001b[0m\u001b[1;33m(\u001b[0m\u001b[1;36m2\u001b[0m\u001b[1;33m*\u001b[0m\u001b[0mx\u001b[0m \u001b[1;33m-\u001b[0m \u001b[0msin\u001b[0m\u001b[1;33m(\u001b[0m\u001b[0my\u001b[0m \u001b[1;33m-\u001b[0m \u001b[1;36m0.5\u001b[0m\u001b[1;33m)\u001b[0m \u001b[1;33m,\u001b[0m\u001b[1;36m1\u001b[0m\u001b[1;33m)\u001b[0m\u001b[1;33m)\u001b[0m\u001b[1;33m\u001b[0m\u001b[1;33m\u001b[0m\u001b[0m\n\u001b[0;32m      3\u001b[0m \u001b[0mz1\u001b[0m\u001b[1;33m.\u001b[0m\u001b[0mappend\u001b[0m\u001b[1;33m(\u001b[0m\u001b[0mz2\u001b[0m\u001b[1;33m[\u001b[0m\u001b[1;36m0\u001b[0m\u001b[1;33m]\u001b[0m\u001b[1;33m)\u001b[0m\u001b[1;33m\u001b[0m\u001b[1;33m\u001b[0m\u001b[0m\n\u001b[1;32m----> 4\u001b[1;33m \u001b[0mz1\u001b[0m\u001b[1;33m.\u001b[0m\u001b[0mgrid\u001b[0m\u001b[1;33m(\u001b[0m\u001b[1;33m)\u001b[0m\u001b[1;33m\u001b[0m\u001b[1;33m\u001b[0m\u001b[0m\n\u001b[0m",
      "\u001b[1;31mAttributeError\u001b[0m: 'Plot' object has no attribute 'grid'"
     ]
    }
   ],
   "source": [
    "z1 = plot_implicit(Eq(cos(x) + y,1.5))\n",
    "z2 = plot_implicit(Eq(2*x - sin(y - 0.5) ,1))\n",
    "z1.append(z2[0])\n",
    "z1.grid()"
   ]
  },
  {
   "cell_type": "code",
   "execution_count": null,
   "metadata": {},
   "outputs": [],
   "source": [
    "F"
   ]
  },
  {
   "cell_type": "code",
   "execution_count": 36,
   "metadata": {},
   "outputs": [
    {
     "data": {
      "text/plain": [
       "[[-sin(x), 1], [2, -cos(y - 0.5)]]"
      ]
     },
     "execution_count": 36,
     "metadata": {},
     "output_type": "execute_result"
    }
   ],
   "source": [
    "J"
   ]
  },
  {
   "cell_type": "code",
   "execution_count": 37,
   "metadata": {},
   "outputs": [],
   "source": [
    "def norma(b):\n",
    "    n = b.shape[0]\n",
    "    if n == 1:\n",
    "        b = np.transpose(b)\n",
    "        n = b.shape[0]\n",
    "    s = 0\n",
    "    for j in range(n):\n",
    "            s += (b[j])**2\n",
    "    return np.sqrt(s)"
   ]
  },
  {
   "cell_type": "code",
   "execution_count": 38,
   "metadata": {},
   "outputs": [],
   "source": [
    "#метод наискорейшего градиентного спуска\n",
    "def steep(A,b):\n",
    "    n = 0\n",
    "    n = A.shape[0]\n",
    "    x = np.zeros((n,1)) #начальное приближение\n",
    "    # поиск вектора невязки\n",
    "    r = A*x - b\n",
    "    eps = 10**(-9)\n",
    "    while norma(r)[0,0] > eps:\n",
    "        n+=1\n",
    "        a = A*r\n",
    "        # вычисление длины шага\n",
    "        lam = (1/2)*(np.transpose(r)*r)/(np.transpose(a)*r)\n",
    "        x = x - lam[0,0]*r\n",
    "        r = A*x - b\n",
    "    return x[:,0]"
   ]
  },
  {
   "cell_type": "code",
   "execution_count": 39,
   "metadata": {},
   "outputs": [],
   "source": [
    "# проверяем, есть ли на главной диагонали нули\n",
    "def no0(M, k):\n",
    "    n =  M.shape[0]\n",
    "    while k < n and not M[k, k]:\n",
    "        k += 1\n",
    "    return k"
   ]
  },
  {
   "cell_type": "code",
   "execution_count": 40,
   "metadata": {},
   "outputs": [],
   "source": [
    "def Gauss(A,b):\n",
    "        M = np.hstack((A, b)) # \"склейка\" матрицы коэффициентов при переменных и вектора свободных членов\n",
    "        n = M.shape[0] \n",
    "        for k in range(n): \n",
    "            # убираем нули с главной диагонали, если они есть\n",
    "            k0 = no0(M, k)\n",
    "            if k0 != k:\n",
    "                M[k0], M[k] = M[k].copy(), M[k0]   \n",
    "            if M[k, k] != 1:\n",
    "                M[k, :] *= 1 / M[k, k]\n",
    "            # приямой ход метода Гаусса\n",
    "            for r in range(k + 1, n):\n",
    "                M[r, :] -= M[k, :] * M[r, k]\n",
    "        #обратный ход метода Гаусса\n",
    "        for k in range(n - 1, 0, -1):\n",
    "            for r in range(k - 1, -1, -1):\n",
    "                if M[r, k]:\n",
    "                    M[r, :] -= M[k, :] * M[r, k]\n",
    "        if b.shape[1] > 1:\n",
    "            return np.hsplit(M,2)[1]\n",
    "        return  (M[:,n])"
   ]
  },
  {
   "cell_type": "code",
   "execution_count": 41,
   "metadata": {},
   "outputs": [],
   "source": [
    "# метод отражений\n",
    "def mir(A, b):\n",
    "    n = A.shape[0]\n",
    "    for i in range(n-1):\n",
    "        #генерирование вектора единичной длины - w\n",
    "        z = np.eye(n)[i,i:n]\n",
    "        y = np.transpose(A[i:n,i])\n",
    "        a = norma(y)/norma(z) \n",
    "        w = (y - a*z)/norma(y - a*z)\n",
    "        #генерирование матрицы отражений - U\n",
    "        U = np.eye(n-i,n-i) - 2*np.transpose(w)*w\n",
    "        U = np.block([[np.eye(n,n)[0:i,:]],[np.zeros((n-i,i)), U]])\n",
    "        A = U*A\n",
    "        b = U*b\n",
    "    M = np.hstack((A, b)) # обратный ход метода Гаусса\n",
    "    for i in range(n):\n",
    "        for j in range(n):\n",
    "            if abs(M[i,j]) < 10**(-10):\n",
    "                M[i,j] = 0\n",
    "        if M[i, i] != 1:\n",
    "            M[i, :] *= 1 / M[i, i]\n",
    "    for k in range(n - 1, 0, -1):\n",
    "           for r in range(k - 1, -1, -1):\n",
    "                if M[r, k]:\n",
    "                    M[r, :] -= M[k, :] * M[r, k]\n",
    "    return  (M[:,n])"
   ]
  },
  {
   "cell_type": "code",
   "execution_count": null,
   "metadata": {},
   "outputs": [],
   "source": []
  },
  {
   "cell_type": "code",
   "execution_count": null,
   "metadata": {},
   "outputs": [],
   "source": []
  },
  {
   "cell_type": "code",
   "execution_count": null,
   "metadata": {},
   "outputs": [],
   "source": []
  },
  {
   "cell_type": "code",
   "execution_count": null,
   "metadata": {},
   "outputs": [],
   "source": []
  },
  {
   "cell_type": "code",
   "execution_count": 42,
   "metadata": {},
   "outputs": [
    {
     "data": {
      "text/plain": [
       "array([0.58192615, 0.66459448])"
      ]
     },
     "execution_count": 42,
     "metadata": {},
     "output_type": "execute_result"
    }
   ],
   "source": [
    "# исходная система\n",
    "F = [cos(x) + y -1.5,2*x - sin(y - 0.5) - 1]\n",
    "# дифференцирование системы\n",
    "J = [[diff(F[0],x),diff(F[0],y)],[diff(F[1],x),diff(F[1],y)]]\n",
    "# функция для постановки числовых значений в функцию\n",
    "def sol(f,x01):\n",
    "    return float(f.subs([(x,x01[0]),(y,x01[1])]))\n",
    "# вычисление значений в левой части СЛАУ\n",
    "def A(x01): \n",
    "    return np.matrix([[sol(J[0][0],x01),sol(J[0][1],x01)],[sol(J[1][0],x01),sol(J[1][1],x01)]])\n",
    "# вычисление значений в правой части СЛАУ\n",
    "def F1(x01):\n",
    "    return np.matrix([[-1*sol(F[0],x01)],[-1*sol(F[1],x01)]])\n",
    "x01 = np.array([1.0000, 1.0000]) # начальное приближение\n",
    "x0 = np.array([0.0000,0.0000])\n",
    "while norma(x01 - x0) > 0.0001:\n",
    "    x0 = x01\n",
    "    B = steep(A(x01),F1(x01))\n",
    "    x0 = np.array([x01[0],x01[1]])\n",
    "    x01[0] +=B[0]\n",
    "    x01[1] +=B[1]\n",
    "x01"
   ]
  },
  {
   "cell_type": "code",
   "execution_count": 53,
   "metadata": {},
   "outputs": [
    {
     "data": {
      "text/latex": [
       "$\\displaystyle \\left[\\begin{matrix}0.581926151754701\\\\0.664594478362647\\end{matrix}\\right]$"
      ],
      "text/plain": [
       "Matrix([\n",
       "[0.581926151754701],\n",
       "[0.664594478362647]])"
      ]
     },
     "execution_count": 53,
     "metadata": {},
     "output_type": "execute_result"
    }
   ],
   "source": [
    "\n",
    "nsolve([cos(x) + y -1.5,2*x - sin(y - 0.5) - 1],[x,y],[1,1])"
   ]
  },
  {
   "cell_type": "code",
   "execution_count": 15,
   "metadata": {},
   "outputs": [
    {
     "name": "stdout",
     "output_type": "stream",
     "text": [
      "2.702061372510227\n"
     ]
    }
   ],
   "source": [
    "x1 = 1.\n",
    "x2 = 3.\n",
    "def f(x):\n",
    "    return 4*np.sin(x)+1-x\n",
    "while abs(x1-x2) > 0.0001:\n",
    "    x0 = x2\n",
    "    x2 = x2 - f(x2)*(x2-x1)/(f(x2)-f(x1))\n",
    "    x1 = x0\n",
    "print(x2)"
   ]
  },
  {
   "cell_type": "code",
   "execution_count": null,
   "metadata": {},
   "outputs": [],
   "source": []
  }
 ],
 "metadata": {
  "kernelspec": {
   "display_name": "Python 3",
   "language": "python",
   "name": "python3"
  },
  "language_info": {
   "codemirror_mode": {
    "name": "ipython",
    "version": 3
   },
   "file_extension": ".py",
   "mimetype": "text/x-python",
   "name": "python",
   "nbconvert_exporter": "python",
   "pygments_lexer": "ipython3",
   "version": "3.8.3"
  }
 },
 "nbformat": 4,
 "nbformat_minor": 4
}
