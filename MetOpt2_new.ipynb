{
 "cells": [
  {
   "cell_type": "code",
   "execution_count": 1,
   "metadata": {},
   "outputs": [
    {
     "name": "stdout",
     "output_type": "stream",
     "text": [
      "Max(Abs(6*g - 1.4), Abs(8*g - 1.2), Abs(10*g - 4.44089209850063e-16), Abs(12*g - 5.8), Abs(14*g - 2.6))\n"
     ]
    }
   ],
   "source": [
    "import pandas as pd\n",
    "import sympy as sp\n",
    "import numpy as np\n",
    "import matplotlib.pyplot as plt\n",
    "\n",
    "\n",
    "in_k = pd.DataFrame({'xi':[1,2,3,4,5],'yi':[0, -1, -3, 2, -2]})\n",
    "\n",
    "x,y,g = sp.symbols('x, y, g')\n",
    "a0 = 2\n",
    "b0 = 4\n",
    "g1 = 0.8\n",
    "g2 = 0.6\n",
    "\n",
    "\n",
    "def F1(a,b):\n",
    "    return sum([(a*in_k.xi[i] + b - in_k.yi[i] )**2 for i in range(5)])\n",
    "\n",
    "\n",
    "def F3(a,b):\n",
    "    max_val = sp.Abs(a * in_k.xi[0] + b - in_k.yi[0])\n",
    "    for i in range(1, 5):\n",
    "            t = sp.Abs(a * in_k.xi[i] + b - in_k.yi[i])\n",
    "            max_val = sp.Max(max_val, t)\n",
    "    return max_val\n",
    "\n",
    "\n",
    "f1 = F1(a0*g-g1,b0*g-g2)\n",
    "\n",
    "def f3(g):\n",
    "    return(F3(a0*g-g1,b0*g-g2))\n",
    "\n",
    "print(f3(g))\n",
    "\n",
    "\n",
    "beg = -10\n",
    "fin = 10\n",
    "\n"
   ]
  },
  {
   "cell_type": "code",
   "execution_count": 2,
   "metadata": {},
   "outputs": [],
   "source": [
    "def dihotom(func):\n",
    "    import pandas as pd\n",
    "    import numpy as np\n",
    "    ep = 10**(-6)\n",
    "    de = ep/3\n",
    "    a = -10\n",
    "    b = 10\n",
    "    while(abs(a-b)>ep):\n",
    "        c = (a + b - de)/2\n",
    "        d = (a + b + de)/2\n",
    "        if (func.subs(g,c)<=func.subs(g,d)):\n",
    "            b = d\n",
    "        else:\n",
    "            a = c\n",
    "    x_min = (a+b)/2\n",
    "    return x_min"
   ]
  },
  {
   "cell_type": "code",
   "execution_count": 3,
   "metadata": {},
   "outputs": [],
   "source": [
    "def is_lip(func, start, finish):\n",
    "    try:\n",
    "        diff_func = sp.diff(func)\n",
    "    except Exception:\n",
    "        return False\n",
    "   \n",
    "    return True\n",
    "\n"
   ]
  },
  {
   "cell_type": "code",
   "execution_count": 4,
   "metadata": {},
   "outputs": [],
   "source": [
    "def lip_const(func, start, finish):\n",
    "    import numpy as np\n",
    "    if not is_lip(func, start, finish):\n",
    "        \n",
    "        return max([abs(func(k)) for k in np.arange(-10,10,0.01)])\n",
    "    diff_func = sp.diff(func)\n",
    "    max_x = dihotom(-1*diff_func)\n",
    "    max_y = diff_func.subs(g,max_x)\n",
    "    return max_y"
   ]
  },
  {
   "cell_type": "code",
   "execution_count": 5,
   "metadata": {},
   "outputs": [
    {
     "name": "stdout",
     "output_type": "stream",
     "text": [
      "True\n",
      "False\n"
     ]
    },
    {
     "name": "stderr",
     "output_type": "stream",
     "text": [
      "C:\\Users\\HP\\anaconda3\\lib\\site-packages\\sympy\\core\\sympify.py:383: SymPyDeprecationWarning: \n",
      "\n",
      "String fallback in sympify has been deprecated since SymPy 1.6. Use\n",
      "sympify(str(obj)) or sympy.core.sympify.converter or obj._sympy_\n",
      "instead. See https://github.com/sympy/sympy/issues/18066 for more\n",
      "info.\n",
      "\n",
      "  SymPyDeprecationWarning(\n"
     ]
    }
   ],
   "source": [
    "print(is_lip(f1,beg,fin))\n",
    "print(is_lip(f3,beg,fin))"
   ]
  },
  {
   "cell_type": "code",
   "execution_count": 6,
   "metadata": {},
   "outputs": [],
   "source": [
    "def Lom(f,L,beg,fin):\n",
    "    out_table = pd.DataFrame({'x':[],'p':[],'2L*delta':[]})\n",
    "    a = beg\n",
    "    b = fin\n",
    "    n = 0\n",
    "    x = (f(a)-f(b) + L*(a+b))/(2*L)\n",
    "    p = (f(a)+f(b) + L*(a-b))/2\n",
    "    delta = (f(x) - p)/(2*L)\n",
    "    while(delta >= 10**(-6)):\n",
    "        line = {'x':x,'p':p,'2L*delta':2*L*delta}\n",
    "        x1 = x - delta\n",
    "        x2 = x + delta\n",
    "        p = (f(x)+p)/2\n",
    "        if (f(x1)<f(x2)):\n",
    "            x = x1\n",
    "        else:\n",
    "            x = x2\n",
    "        \n",
    "        out_table=out_table.append(line,ignore_index=True)\n",
    "        delta = (f(x) - p)/(2*L)\n",
    "        n = n +1\n",
    "    line = {'x':x,'p':p,'2L*delta':2*L*delta}\n",
    "    out_table=out_table.append(line,ignore_index=True)\n",
    "    print(out_table)\n",
    "    \n",
    "    return \"end\"\n",
    "    "
   ]
  },
  {
   "cell_type": "code",
   "execution_count": 7,
   "metadata": {},
   "outputs": [
    {
     "name": "stdout",
     "output_type": "stream",
     "text": [
      "                   x                 p              2L*delta\n",
      "0  0.185714285714285                 0      3.57142857142858\n",
      "1  0.313265306122449  1.78571428571429      1.34693877551020\n",
      "2  0.265160349854227  2.45918367346939     0.192419825072886\n",
      "3  0.258288213244481  2.55539358600583     0.145147855060392\n",
      "4  0.263472065210924  2.62796751353603    0.0103677039328853\n",
      "5  0.263842340351384  2.63315136550247   0.00527203801137155\n",
      "6  0.263654053279549  2.63578738450816  0.000753148287338412\n",
      "7  0.263627155126430  2.63616395865182  0.000310179831013002\n",
      "8  0.263638232977538  2.63631904856733   6.32812080465506e-5\n",
      "9  0.263635972934393  2.63635068917135   1.76356159258262e-5\n",
      "end\n"
     ]
    }
   ],
   "source": [
    "#14 - наибольший тангенс угла наклона отрезка в третьей функции\n",
    "print(Lom(f3,14,beg,fin))"
   ]
  },
  {
   "cell_type": "code",
   "execution_count": 8,
   "metadata": {},
   "outputs": [],
   "source": [
    "def N_r(f,L,beg):\n",
    "    out_table = pd.DataFrame({'x':[],'f':[],'diff_f':[]})    \n",
    "    x = beg\n",
    "    n = 0\n",
    "    f_d1 = sp.diff(f)\n",
    "    f_d2 = sp.diff(f_d1)\n",
    "    line = {'x':x,'f':f.subs(g,x),'diff_f':f_d1.subs(g,x)}\n",
    "    out_table=out_table.append(line,ignore_index=True)\n",
    "    while(abs(f_d1.subs(g,x))>10**(-6)):\n",
    "        n = n + 1\n",
    "        x1 = x\n",
    "        x = x - f_d1.subs(g,x)/f_d2.subs(g,x)\n",
    "        line = {'x':x,'f':f.subs(g,x),'diff_f':f_d1.subs(g,x)}\n",
    "        out_table=out_table.append(line,ignore_index=True)\n",
    "    print(out_table)\n",
    "   \n",
    "    return \"end\""
   ]
  },
  {
   "cell_type": "code",
   "execution_count": 9,
   "metadata": {},
   "outputs": [
    {
     "name": "stdout",
     "output_type": "stream",
     "text": [
      "                   x                 f                 diff_f\n",
      "0                 10  51563.8000000000       10552.0000000000\n",
      "1  0.229629629629629  15.3259259259259  -2.27373675443232e-13\n",
      "end\n"
     ]
    }
   ],
   "source": [
    "print(N_r(f1,lip_const(f1,beg,fin),fin))"
   ]
  },
  {
   "cell_type": "code",
   "execution_count": null,
   "metadata": {},
   "outputs": [],
   "source": []
  },
  {
   "cell_type": "code",
   "execution_count": null,
   "metadata": {},
   "outputs": [],
   "source": []
  }
 ],
 "metadata": {
  "kernelspec": {
   "display_name": "Python 3",
   "language": "python",
   "name": "python3"
  },
  "language_info": {
   "codemirror_mode": {
    "name": "ipython",
    "version": 3
   },
   "file_extension": ".py",
   "mimetype": "text/x-python",
   "name": "python",
   "nbconvert_exporter": "python",
   "pygments_lexer": "ipython3",
   "version": "3.8.3"
  }
 },
 "nbformat": 4,
 "nbformat_minor": 4
}
