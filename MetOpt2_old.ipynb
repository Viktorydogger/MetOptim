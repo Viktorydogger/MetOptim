{
 "cells": [
  {
   "cell_type": "code",
   "execution_count": 3,
   "metadata": {},
   "outputs": [],
   "source": [
    "def dihotom(func):\n",
    "    import pandas as pd\n",
    "    import numpy as np\n",
    "    ep = 10**(-6)\n",
    "    de = ep/3\n",
    "    a = -10\n",
    "    b = 10\n",
    "    while(abs(a-b)>ep):\n",
    "        c = (a + b - de)/2\n",
    "        d = (a + b + de)/2\n",
    "        if (func(c)<=func(d)):\n",
    "            b = c\n",
    "        else:\n",
    "            a = d\n",
    "    x_min = (a-b)/2\n",
    "    return x_min"
   ]
  },
  {
   "cell_type": "code",
   "execution_count": 4,
   "metadata": {},
   "outputs": [],
   "source": [
    "\n",
    "def is_lip(func, start, finish):\n",
    "    try:\n",
    "        diff_func = derivative(func,g)\n",
    "    except Exception:\n",
    "        return False\n",
    "    interval = sp.Interval(start, finish)\n",
    "    if interval != sp.calculus.util.continuous_domain(diff_func, g, interval):\n",
    "        return False\n",
    "    return True"
   ]
  },
  {
   "cell_type": "code",
   "execution_count": 5,
   "metadata": {},
   "outputs": [
    {
     "name": "stdout",
     "output_type": "stream",
     "text": [
      "True\n",
      "False\n"
     ]
    }
   ],
   "source": [
    "import pandas as pd\n",
    "import sympy as sp\n",
    "import numpy as np\n",
    "import matplotlib.pyplot as plt\n",
    "from scipy.misc import derivative\n",
    "in_k = pd.DataFrame({'xi':[1,2,3,4,5],'yi':[0, -1, -3, 2, -2]})\n",
    "def F1(a,b):\n",
    "    return sum([(a*in_k.xi[i] - b + in_k.yi[i] )**2 for i in range(5)])\n",
    "def F3(a,b):\n",
    "    return max([abs(a*in_k.xi[i] - b + in_k.yi[i]) for i in range(5)])\n",
    "a0 = 2\n",
    "b0 = 4\n",
    "g1 = 0.8\n",
    "g2 = 0.6\n",
    "g = sp.Symbol('g')\n",
    "def f1(g):\n",
    "    return(F1(a0*g-g1,b0*g-g2))\n",
    "def f3(g):\n",
    "    return(F3(a0*g-g1,b0*g-g2))\n",
    "beg = -10\n",
    "fin = 10\n",
    "\n",
    "def lip_const(func, start, finish):\n",
    "    import numpy as np\n",
    "    if not is_lip(func, start, finish):\n",
    "        return max([abs(derivative(func,k)) for k in np.arange(-10,10,0.01)])\n",
    "    diff_func = derivative(func,g)\n",
    "    max_x = dihotom(func)\n",
    "    max_y = -1*derivative(func,max_x)\n",
    "    return max_y\n",
    "\n",
    "# липшицевы ли функции\n",
    "print(is_lip(f1,beg,fin))\n",
    "print(is_lip(f3,beg,fin))"
   ]
  },
  {
   "cell_type": "code",
   "execution_count": 6,
   "metadata": {},
   "outputs": [],
   "source": [
    "#метод ломаных \n",
    "def Lom(f,L,beg,fin):\n",
    "    out_table = pd.DataFrame({'x':[],'p':[],'2L*delta':[]})\n",
    "    a = beg\n",
    "    b = fin\n",
    "    n = 0\n",
    "    x = (f(a)-f(b) + L*(a+b))/(2*L)\n",
    "    p = (f(a)+f(b) + L*(a-b))/2\n",
    "    delta = (f(x) - p)/(2*L)\n",
    "    while(delta >= 10**(-6)):\n",
    "        line = {'x':x,'p':p,'2L*delta':2*L*delta}\n",
    "        x1 = x - delta\n",
    "        x2 = x + delta\n",
    "        p = (f(x)+p)/2\n",
    "        if (f(x1)<f(x2)):\n",
    "            x = x1\n",
    "        else:\n",
    "            x = x2\n",
    "        \n",
    "        out_table=out_table.append(line,ignore_index=True)\n",
    "        delta = (f(x) - p)/(2*L)\n",
    "        n = n +1\n",
    "    line = {'x':x,'p':p,'2L*delta':2*L*delta}\n",
    "    out_table=out_table.append(line,ignore_index=True)\n",
    "    print(out_table)\n",
    "    \n",
    "    return \"end\"\n",
    "    "
   ]
  },
  {
   "cell_type": "code",
   "execution_count": 7,
   "metadata": {},
   "outputs": [
    {
     "name": "stdout",
     "output_type": "stream",
     "text": [
      "           x             p  2L*delta\n",
      "0   0.900000 -3.552714e-14  3.000000\n",
      "1   0.650000  1.500000e+00  2.000000\n",
      "2   0.816667  2.500000e+00  0.666667\n",
      "3   0.872222  2.833333e+00  0.222222\n",
      "4   0.890741  2.944444e+00  0.074074\n",
      "5   0.896914  2.981481e+00  0.024691\n",
      "6   0.898971  2.993827e+00  0.008230\n",
      "7   0.899657  2.997942e+00  0.002743\n",
      "8   0.899886  2.999314e+00  0.000914\n",
      "9   0.899962  2.999771e+00  0.000305\n",
      "10  0.899987  2.999924e+00  0.000102\n",
      "11  0.899996  2.999975e+00  0.000034\n",
      "12  0.899999  2.999992e+00  0.000011\n",
      "end\n"
     ]
    }
   ],
   "source": [
    "print(Lom(f3,lip_const(f3,beg,fin),beg,fin))"
   ]
  },
  {
   "cell_type": "code",
   "execution_count": 11,
   "metadata": {},
   "outputs": [],
   "source": [
    "#метод Ньютона-Расфона\n",
    "def N_r(f,L,beg):\n",
    "    out_table = pd.DataFrame({'x':[],'f':[],'diff_f':[]})    x = beg\n",
    "    n = 0\n",
    "    f_d1 = derivative(f,x)\n",
    "    f_ = f(x)\n",
    "    f_d2 = derivative(f,x,2)\n",
    "    while(abs(f_d1)>10**(-6)):\n",
    "        line = {'x':x,'f':f_,'diff_f':f_d1}\n",
    "        out_table=out_table.append(line,ignore_index=True)\n",
    "        n = n + 1\n",
    "        x1 = x\n",
    "        x = x - f_/f_d1\n",
    "        f_d1 = derivative(f,x)\n",
    "        f_ = f(x)\n",
    "        f_d2 = derivative(f,x,2)\n",
    "        if(f_d2 <= 0):\n",
    "            print(\"в ходе вычислений пройдена точка перегиба, метод Ньютона-Расфона расходится, так как функция больше не выпукла вниз и значение второй производной отрицательно \",f_d2)\n",
    "            line = {'x':x,'f':f_,'diff_f':f_d1}\n",
    "            out_table=out_table.append(line,ignore_index=True)\n",
    "            break\n",
    "    print(out_table)\n",
    "    x = np.arange(-10,10,0.1)\n",
    "    plt.plot(x,f(x))\n",
    "    plt.plot(x,derivative(f,x))\n",
    "   \n",
    "    return \"end\""
   ]
  },
  {
   "cell_type": "code",
   "execution_count": 12,
   "metadata": {},
   "outputs": [
    {
     "name": "stdout",
     "output_type": "stream",
     "text": [
      "в ходе вычислений пройдена точка перегиба, метод Ньютона-Расфона расходится, так как функция больше не выпукла вниз и значение второй производной отрицательно  -55.122401861862684\n",
      "           x            f       diff_f\n",
      "0  10.000000  5176.600000  1112.000000\n",
      "1   5.344784  1300.262064   553.374101\n",
      "2   2.995086   331.264865   271.410331\n",
      "3   1.774555    89.381832   124.946548\n",
      "4   1.059194    30.704444    39.103280\n",
      "5   0.273980    36.993663   -55.122402\n",
      "end\n"
     ]
    },
    {
     "data": {
      "image/png": "[encoded data removed]",
      "text/plain": [
       "<Figure size 432x288 with 1 Axes>"
      ]
     },
     "metadata": {
      "needs_background": "light"
     },
     "output_type": "display_data"
    }
   ],
   "source": [
    "print(N_r(f1,lip_const(f1,beg,fin),fin))\n"
   ]
  },
  {
   "cell_type": "code",
   "execution_count": null,
   "metadata": {},
   "outputs": [],
   "source": []
  },
  {
   "cell_type": "code",
   "execution_count": null,
   "metadata": {},
   "outputs": [],
   "source": []
  }
 ],
 "metadata": {
  "kernelspec": {
   "display_name": "Python 3",
   "language": "python",
   "name": "python3"
  },
  "language_info": {
   "codemirror_mode": {
    "name": "ipython",
    "version": 3
   },
   "file_extension": ".py",
   "mimetype": "text/x-python",
   "name": "python",
   "nbconvert_exporter": "python",
   "pygments_lexer": "ipython3",
   "version": "3.8.3"
  }
 },
 "nbformat": 4,
 "nbformat_minor": 4
}
